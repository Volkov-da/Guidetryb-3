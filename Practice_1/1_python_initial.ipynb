{
 "cells": [
  {
   "attachments": {},
   "cell_type": "markdown",
   "metadata": {},
   "source": [
    "# Variable in Python"
   ]
  },
  {
   "cell_type": "markdown",
   "metadata": {},
   "source": [
    "## Numeric variables"
   ]
  },
  {
   "cell_type": "code",
   "execution_count": 7,
   "metadata": {},
   "outputs": [],
   "source": [
    "int_variable = 3\n",
    "int_variable_2 = 56\n",
    "int_variable_3 = 100"
   ]
  },
  {
   "cell_type": "code",
   "execution_count": 8,
   "metadata": {},
   "outputs": [],
   "source": [
    "float_variable = 3.5677888\n",
    "float_variable_2 = 5/6\n",
    "float_variable_3 = 1.313231"
   ]
  },
  {
   "cell_type": "code",
   "execution_count": 9,
   "metadata": {},
   "outputs": [
    {
     "name": "stdout",
     "output_type": "stream",
     "text": [
      "3.5677888 0.8333333333333334 1.313231\n",
      "3 56 100\n"
     ]
    }
   ],
   "source": [
    "print(float_variable, float_variable_2, float_variable_3)\n",
    "print(int_variable, int_variable_2, int_variable_3)"
   ]
  },
  {
   "cell_type": "code",
   "execution_count": 10,
   "metadata": {},
   "outputs": [],
   "source": [
    "complex_num1 = 3 + 5j\n",
    "complex_num2 = 1 - 3j\n",
    "complex_num3 = 0 - 2j"
   ]
  },
  {
   "cell_type": "code",
   "execution_count": 11,
   "metadata": {},
   "outputs": [
    {
     "name": "stdout",
     "output_type": "stream",
     "text": [
      "(3+5j) (1-3j) -2j\n"
     ]
    }
   ],
   "source": [
    "print(complex_num1, complex_num2, complex_num3)"
   ]
  },
  {
   "cell_type": "markdown",
   "metadata": {},
   "source": [
    "# Strings"
   ]
  },
  {
   "cell_type": "code",
   "execution_count": 12,
   "metadata": {},
   "outputs": [],
   "source": [
    "string_1 = 'Dima'\n",
    "string_2 = 'German'\n",
    "string_3 = 'Solomon'"
   ]
  },
  {
   "cell_type": "code",
   "execution_count": 13,
   "metadata": {},
   "outputs": [
    {
     "name": "stdout",
     "output_type": "stream",
     "text": [
      "Dima German Solomon\n"
     ]
    }
   ],
   "source": [
    "print(string_1, string_2, string_3)"
   ]
  },
  {
   "cell_type": "code",
   "execution_count": 17,
   "metadata": {},
   "outputs": [],
   "source": [
    "string_numbers = '3241241241'\n",
    "string_numbers_and_symbols = 'dima_3241241241_@3$32435'"
   ]
  },
  {
   "cell_type": "code",
   "execution_count": 18,
   "metadata": {},
   "outputs": [
    {
     "name": "stdout",
     "output_type": "stream",
     "text": [
      "3241241241 dima_3241241241_@3$32435\n"
     ]
    }
   ],
   "source": [
    "print(string_numbers, string_numbers_and_symbols)"
   ]
  },
  {
   "cell_type": "markdown",
   "metadata": {},
   "source": [
    "# List"
   ]
  },
  {
   "cell_type": "code",
   "execution_count": 27,
   "metadata": {},
   "outputs": [],
   "source": [
    "list_of_integers = [1, 2, 3, 300]\n",
    "list_of_floats = [1.323, 2.9876, 300.89]\n",
    "list_of_string = ['Dima', 'Dasha', 'German', 'Pug']\n",
    "list_combined_types = [1, 1.4646, 'String', 3 + 6j]"
   ]
  },
  {
   "cell_type": "code",
   "execution_count": 26,
   "metadata": {},
   "outputs": [
    {
     "name": "stdout",
     "output_type": "stream",
     "text": [
      "[1, 2, 3, 300] [1.323, 2.9876, 300.89] ['Dima', 'Dasha', 'German', 'Pug']\n"
     ]
    }
   ],
   "source": [
    "print(list_of_integers, list_of_floats, list_of_string)"
   ]
  },
  {
   "cell_type": "code",
   "execution_count": 29,
   "metadata": {},
   "outputs": [],
   "source": [
    "list_of_variables = [int_variable_2, float_variable_3, string_2]"
   ]
  },
  {
   "cell_type": "code",
   "execution_count": 30,
   "metadata": {},
   "outputs": [
    {
     "name": "stdout",
     "output_type": "stream",
     "text": [
      "[56, 1.313231, 'German']\n"
     ]
    }
   ],
   "source": [
    "print(list_of_variables)"
   ]
  },
  {
   "cell_type": "markdown",
   "metadata": {},
   "source": [
    "# Dictionary"
   ]
  },
  {
   "cell_type": "code",
   "execution_count": 31,
   "metadata": {},
   "outputs": [],
   "source": [
    "dict_animals = {'Sharik' : 'dog', 'Nemo' : 'fish', 'Claws' : 'shark', 'Dima' : 'human'}"
   ]
  },
  {
   "cell_type": "code",
   "execution_count": 32,
   "metadata": {},
   "outputs": [
    {
     "name": "stdout",
     "output_type": "stream",
     "text": [
      "{'Sharik': 'dog', 'Nemo': 'fish', 'Claws': 'shark', 'Dima': 'human'}\n"
     ]
    }
   ],
   "source": [
    "print(dict_animals)"
   ]
  },
  {
   "cell_type": "code",
   "execution_count": 33,
   "metadata": {},
   "outputs": [],
   "source": [
    "dict_cars = {'Mercedes' : 20_000, 'BMW' : 25_000, 'LADA' : 5000, 'Toyta' : 17_000}"
   ]
  },
  {
   "attachments": {},
   "cell_type": "markdown",
   "metadata": {},
   "source": [
    "# Simple math with Python"
   ]
  },
  {
   "cell_type": "code",
   "execution_count": 42,
   "metadata": {},
   "outputs": [],
   "source": [
    "var_int1 = 560\n",
    "var_int2 = 8"
   ]
  },
  {
   "cell_type": "code",
   "execution_count": 43,
   "metadata": {},
   "outputs": [
    {
     "name": "stdout",
     "output_type": "stream",
     "text": [
      "568\n",
      "552\n",
      "4480\n",
      "70.0\n",
      "70\n",
      "9671731157401600000000\n"
     ]
    }
   ],
   "source": [
    "print(var_int1 + var_int2)\n",
    "print(var_int1 - var_int2)\n",
    "print(var_int1 * var_int2)\n",
    "print(var_int1 / var_int2)\n",
    "print(var_int1 // var_int2)\n",
    "print(var_int1 ** var_int2)"
   ]
  },
  {
   "cell_type": "code",
   "execution_count": 37,
   "metadata": {},
   "outputs": [],
   "source": [
    "var_float1 = 7.2312312\n",
    "var_float2 = 1.30"
   ]
  },
  {
   "cell_type": "code",
   "execution_count": 44,
   "metadata": {},
   "outputs": [
    {
     "name": "stdout",
     "output_type": "stream",
     "text": [
      "8.5312312\n",
      "5.9312312\n",
      "9.40060056\n",
      "5.562485538461538\n",
      "13.091093398991253\n"
     ]
    }
   ],
   "source": [
    "print(var_float1 + var_float2)\n",
    "print(var_float1 - var_float2)\n",
    "print(var_float1 * var_float2)\n",
    "print(var_float1 / var_float2)\n",
    "# print(var_float1 // var_float2)\n",
    "print(var_float1 ** var_float2)"
   ]
  },
  {
   "cell_type": "markdown",
   "metadata": {},
   "source": [
    "# Operations with strings"
   ]
  },
  {
   "cell_type": "code",
   "execution_count": 54,
   "metadata": {},
   "outputs": [],
   "source": [
    "string_test1 = 'Yandex worker'\n",
    "string_test2 = 'Dima'"
   ]
  },
  {
   "cell_type": "code",
   "execution_count": 46,
   "metadata": {},
   "outputs": [
    {
     "name": "stdout",
     "output_type": "stream",
     "text": [
      "Yandex worker\n"
     ]
    }
   ],
   "source": [
    "print(string_test1)"
   ]
  },
  {
   "cell_type": "code",
   "execution_count": 52,
   "metadata": {},
   "outputs": [
    {
     "data": {
      "text/plain": [
       "'YANDEX WORKER'"
      ]
     },
     "execution_count": 52,
     "metadata": {},
     "output_type": "execute_result"
    }
   ],
   "source": [
    "string_test1.upper()"
   ]
  },
  {
   "cell_type": "code",
   "execution_count": 53,
   "metadata": {},
   "outputs": [
    {
     "data": {
      "text/plain": [
       "'yandex worker'"
      ]
     },
     "execution_count": 53,
     "metadata": {},
     "output_type": "execute_result"
    }
   ],
   "source": [
    "string_test1.lower()"
   ]
  },
  {
   "cell_type": "code",
   "execution_count": 57,
   "metadata": {},
   "outputs": [
    {
     "data": {
      "text/plain": [
       "'Yandex worker Dima making a video lecture'"
      ]
     },
     "execution_count": 57,
     "metadata": {},
     "output_type": "execute_result"
    }
   ],
   "source": [
    "string_test1 + ' ' + string_test2 + ' making a video lecture'"
   ]
  },
  {
   "cell_type": "markdown",
   "metadata": {},
   "source": [
    "# Loops in Python"
   ]
  },
  {
   "cell_type": "markdown",
   "metadata": {},
   "source": [
    "## For loops"
   ]
  },
  {
   "cell_type": "code",
   "execution_count": 61,
   "metadata": {},
   "outputs": [],
   "source": [
    "collection = [1, 2, 3, 100, 400, 10000, 2000, 300, 1]"
   ]
  },
  {
   "cell_type": "code",
   "execution_count": 65,
   "metadata": {},
   "outputs": [
    {
     "name": "stdout",
     "output_type": "stream",
     "text": [
      "1\n",
      "8\n",
      "27\n",
      "1000000\n",
      "64000000\n",
      "1000000000000\n",
      "8000000000\n",
      "27000000\n",
      "1\n"
     ]
    }
   ],
   "source": [
    "for el in collection:\n",
    "    print(el ** 3)"
   ]
  },
  {
   "cell_type": "code",
   "execution_count": 66,
   "metadata": {},
   "outputs": [
    {
     "name": "stdout",
     "output_type": "stream",
     "text": [
      "1\n",
      "3\n",
      "5\n",
      "7\n",
      "9\n",
      "11\n",
      "13\n",
      "15\n",
      "17\n",
      "19\n",
      "21\n",
      "23\n",
      "25\n",
      "27\n",
      "29\n",
      "31\n",
      "33\n",
      "35\n",
      "37\n",
      "39\n",
      "41\n",
      "43\n",
      "45\n",
      "47\n",
      "49\n",
      "51\n",
      "53\n",
      "55\n",
      "57\n",
      "59\n",
      "61\n",
      "63\n",
      "65\n",
      "67\n",
      "69\n",
      "71\n",
      "73\n",
      "75\n",
      "77\n",
      "79\n",
      "81\n",
      "83\n",
      "85\n",
      "87\n",
      "89\n",
      "91\n",
      "93\n",
      "95\n",
      "97\n",
      "99\n",
      "101\n",
      "103\n",
      "105\n",
      "107\n",
      "109\n",
      "111\n",
      "113\n",
      "115\n",
      "117\n",
      "119\n",
      "121\n",
      "123\n",
      "125\n",
      "127\n",
      "129\n",
      "131\n",
      "133\n",
      "135\n",
      "137\n",
      "139\n",
      "141\n",
      "143\n",
      "145\n",
      "147\n",
      "149\n"
     ]
    }
   ],
   "source": [
    "for el in range(1, 150, 2):\n",
    "    print(el)"
   ]
  },
  {
   "cell_type": "code",
   "execution_count": 69,
   "metadata": {},
   "outputs": [],
   "source": [
    "list_from_1to150 = [el for el in range(1, 1500, 2)]"
   ]
  },
  {
   "cell_type": "code",
   "execution_count": 70,
   "metadata": {},
   "outputs": [
    {
     "name": "stdout",
     "output_type": "stream",
     "text": [
      "[1, 3, 5, 7, 9, 11, 13, 15, 17, 19, 21, 23, 25, 27, 29, 31, 33, 35, 37, 39, 41, 43, 45, 47, 49, 51, 53, 55, 57, 59, 61, 63, 65, 67, 69, 71, 73, 75, 77, 79, 81, 83, 85, 87, 89, 91, 93, 95, 97, 99, 101, 103, 105, 107, 109, 111, 113, 115, 117, 119, 121, 123, 125, 127, 129, 131, 133, 135, 137, 139, 141, 143, 145, 147, 149, 151, 153, 155, 157, 159, 161, 163, 165, 167, 169, 171, 173, 175, 177, 179, 181, 183, 185, 187, 189, 191, 193, 195, 197, 199, 201, 203, 205, 207, 209, 211, 213, 215, 217, 219, 221, 223, 225, 227, 229, 231, 233, 235, 237, 239, 241, 243, 245, 247, 249, 251, 253, 255, 257, 259, 261, 263, 265, 267, 269, 271, 273, 275, 277, 279, 281, 283, 285, 287, 289, 291, 293, 295, 297, 299, 301, 303, 305, 307, 309, 311, 313, 315, 317, 319, 321, 323, 325, 327, 329, 331, 333, 335, 337, 339, 341, 343, 345, 347, 349, 351, 353, 355, 357, 359, 361, 363, 365, 367, 369, 371, 373, 375, 377, 379, 381, 383, 385, 387, 389, 391, 393, 395, 397, 399, 401, 403, 405, 407, 409, 411, 413, 415, 417, 419, 421, 423, 425, 427, 429, 431, 433, 435, 437, 439, 441, 443, 445, 447, 449, 451, 453, 455, 457, 459, 461, 463, 465, 467, 469, 471, 473, 475, 477, 479, 481, 483, 485, 487, 489, 491, 493, 495, 497, 499, 501, 503, 505, 507, 509, 511, 513, 515, 517, 519, 521, 523, 525, 527, 529, 531, 533, 535, 537, 539, 541, 543, 545, 547, 549, 551, 553, 555, 557, 559, 561, 563, 565, 567, 569, 571, 573, 575, 577, 579, 581, 583, 585, 587, 589, 591, 593, 595, 597, 599, 601, 603, 605, 607, 609, 611, 613, 615, 617, 619, 621, 623, 625, 627, 629, 631, 633, 635, 637, 639, 641, 643, 645, 647, 649, 651, 653, 655, 657, 659, 661, 663, 665, 667, 669, 671, 673, 675, 677, 679, 681, 683, 685, 687, 689, 691, 693, 695, 697, 699, 701, 703, 705, 707, 709, 711, 713, 715, 717, 719, 721, 723, 725, 727, 729, 731, 733, 735, 737, 739, 741, 743, 745, 747, 749, 751, 753, 755, 757, 759, 761, 763, 765, 767, 769, 771, 773, 775, 777, 779, 781, 783, 785, 787, 789, 791, 793, 795, 797, 799, 801, 803, 805, 807, 809, 811, 813, 815, 817, 819, 821, 823, 825, 827, 829, 831, 833, 835, 837, 839, 841, 843, 845, 847, 849, 851, 853, 855, 857, 859, 861, 863, 865, 867, 869, 871, 873, 875, 877, 879, 881, 883, 885, 887, 889, 891, 893, 895, 897, 899, 901, 903, 905, 907, 909, 911, 913, 915, 917, 919, 921, 923, 925, 927, 929, 931, 933, 935, 937, 939, 941, 943, 945, 947, 949, 951, 953, 955, 957, 959, 961, 963, 965, 967, 969, 971, 973, 975, 977, 979, 981, 983, 985, 987, 989, 991, 993, 995, 997, 999, 1001, 1003, 1005, 1007, 1009, 1011, 1013, 1015, 1017, 1019, 1021, 1023, 1025, 1027, 1029, 1031, 1033, 1035, 1037, 1039, 1041, 1043, 1045, 1047, 1049, 1051, 1053, 1055, 1057, 1059, 1061, 1063, 1065, 1067, 1069, 1071, 1073, 1075, 1077, 1079, 1081, 1083, 1085, 1087, 1089, 1091, 1093, 1095, 1097, 1099, 1101, 1103, 1105, 1107, 1109, 1111, 1113, 1115, 1117, 1119, 1121, 1123, 1125, 1127, 1129, 1131, 1133, 1135, 1137, 1139, 1141, 1143, 1145, 1147, 1149, 1151, 1153, 1155, 1157, 1159, 1161, 1163, 1165, 1167, 1169, 1171, 1173, 1175, 1177, 1179, 1181, 1183, 1185, 1187, 1189, 1191, 1193, 1195, 1197, 1199, 1201, 1203, 1205, 1207, 1209, 1211, 1213, 1215, 1217, 1219, 1221, 1223, 1225, 1227, 1229, 1231, 1233, 1235, 1237, 1239, 1241, 1243, 1245, 1247, 1249, 1251, 1253, 1255, 1257, 1259, 1261, 1263, 1265, 1267, 1269, 1271, 1273, 1275, 1277, 1279, 1281, 1283, 1285, 1287, 1289, 1291, 1293, 1295, 1297, 1299, 1301, 1303, 1305, 1307, 1309, 1311, 1313, 1315, 1317, 1319, 1321, 1323, 1325, 1327, 1329, 1331, 1333, 1335, 1337, 1339, 1341, 1343, 1345, 1347, 1349, 1351, 1353, 1355, 1357, 1359, 1361, 1363, 1365, 1367, 1369, 1371, 1373, 1375, 1377, 1379, 1381, 1383, 1385, 1387, 1389, 1391, 1393, 1395, 1397, 1399, 1401, 1403, 1405, 1407, 1409, 1411, 1413, 1415, 1417, 1419, 1421, 1423, 1425, 1427, 1429, 1431, 1433, 1435, 1437, 1439, 1441, 1443, 1445, 1447, 1449, 1451, 1453, 1455, 1457, 1459, 1461, 1463, 1465, 1467, 1469, 1471, 1473, 1475, 1477, 1479, 1481, 1483, 1485, 1487, 1489, 1491, 1493, 1495, 1497, 1499]\n"
     ]
    }
   ],
   "source": [
    "print(list_from_1to150)"
   ]
  },
  {
   "cell_type": "markdown",
   "metadata": {},
   "source": [
    "## While loops"
   ]
  },
  {
   "cell_type": "code",
   "execution_count": 74,
   "metadata": {},
   "outputs": [
    {
     "name": "stdout",
     "output_type": "stream",
     "text": [
      "0\n",
      "3\n",
      "6\n",
      "9\n",
      "12\n",
      "15\n",
      "18\n",
      "21\n",
      "24\n",
      "27\n",
      "30\n",
      "33\n",
      "36\n",
      "39\n",
      "42\n",
      "45\n",
      "48\n",
      "51\n",
      "54\n",
      "57\n",
      "60\n",
      "63\n",
      "66\n",
      "69\n",
      "72\n",
      "75\n",
      "78\n",
      "81\n",
      "84\n",
      "87\n",
      "90\n",
      "93\n",
      "96\n",
      "99\n",
      "102\n",
      "105\n",
      "108\n",
      "111\n",
      "114\n",
      "117\n",
      "120\n",
      "123\n",
      "126\n",
      "129\n",
      "132\n",
      "135\n",
      "138\n",
      "141\n",
      "144\n",
      "147\n",
      "150\n",
      "153\n",
      "156\n",
      "159\n",
      "162\n",
      "165\n",
      "168\n",
      "171\n",
      "174\n",
      "177\n",
      "180\n",
      "183\n",
      "186\n",
      "189\n",
      "192\n",
      "195\n",
      "198\n",
      "201\n",
      "204\n",
      "207\n",
      "210\n",
      "213\n",
      "216\n",
      "219\n",
      "222\n",
      "225\n",
      "228\n",
      "231\n",
      "234\n",
      "237\n",
      "240\n",
      "243\n",
      "246\n",
      "249\n",
      "252\n",
      "255\n",
      "258\n",
      "261\n",
      "264\n",
      "267\n",
      "270\n",
      "273\n",
      "276\n",
      "279\n",
      "282\n",
      "285\n",
      "288\n",
      "291\n",
      "294\n",
      "297\n",
      "300\n",
      "303\n",
      "306\n",
      "309\n",
      "312\n",
      "315\n",
      "318\n",
      "321\n",
      "324\n",
      "327\n",
      "330\n",
      "333\n",
      "336\n",
      "339\n",
      "342\n",
      "345\n",
      "348\n",
      "351\n",
      "354\n",
      "357\n",
      "360\n",
      "363\n",
      "366\n",
      "369\n",
      "372\n",
      "375\n",
      "378\n",
      "381\n",
      "384\n",
      "387\n",
      "390\n",
      "393\n",
      "396\n",
      "399\n",
      "402\n",
      "405\n",
      "408\n",
      "411\n",
      "414\n",
      "417\n",
      "420\n",
      "423\n",
      "426\n",
      "429\n",
      "432\n",
      "435\n",
      "438\n",
      "441\n",
      "444\n",
      "447\n",
      "450\n",
      "453\n",
      "456\n",
      "459\n",
      "462\n",
      "465\n",
      "468\n",
      "471\n",
      "474\n",
      "477\n",
      "480\n",
      "483\n",
      "486\n",
      "489\n",
      "492\n",
      "495\n",
      "498\n",
      "501\n",
      "504\n",
      "507\n",
      "510\n",
      "513\n",
      "516\n",
      "519\n",
      "522\n",
      "525\n",
      "528\n",
      "531\n",
      "534\n",
      "537\n",
      "540\n",
      "543\n",
      "546\n",
      "549\n",
      "552\n",
      "555\n",
      "558\n",
      "561\n",
      "564\n",
      "567\n",
      "570\n",
      "573\n",
      "576\n",
      "579\n",
      "582\n",
      "585\n",
      "588\n",
      "591\n",
      "594\n",
      "597\n",
      "600\n",
      "603\n",
      "606\n",
      "609\n",
      "612\n",
      "615\n",
      "618\n",
      "621\n",
      "624\n",
      "627\n",
      "630\n",
      "633\n",
      "636\n",
      "639\n",
      "642\n",
      "645\n",
      "648\n",
      "651\n",
      "654\n",
      "657\n",
      "660\n",
      "663\n",
      "666\n",
      "669\n",
      "672\n",
      "675\n",
      "678\n",
      "681\n",
      "684\n",
      "687\n",
      "690\n",
      "693\n",
      "696\n",
      "699\n",
      "702\n",
      "705\n",
      "708\n",
      "711\n",
      "714\n",
      "717\n",
      "720\n",
      "723\n",
      "726\n",
      "729\n",
      "732\n",
      "735\n",
      "738\n",
      "741\n",
      "744\n",
      "747\n",
      "750\n",
      "753\n",
      "756\n",
      "759\n",
      "762\n",
      "765\n",
      "768\n",
      "771\n",
      "774\n",
      "777\n",
      "780\n",
      "783\n",
      "786\n",
      "789\n",
      "792\n",
      "795\n",
      "798\n",
      "801\n",
      "804\n",
      "807\n",
      "810\n",
      "813\n",
      "816\n",
      "819\n",
      "822\n",
      "825\n",
      "828\n",
      "831\n",
      "834\n",
      "837\n",
      "840\n",
      "843\n",
      "846\n",
      "849\n",
      "852\n",
      "855\n",
      "858\n",
      "861\n",
      "864\n",
      "867\n",
      "870\n",
      "873\n",
      "876\n",
      "879\n",
      "882\n",
      "885\n",
      "888\n",
      "891\n",
      "894\n",
      "897\n",
      "900\n",
      "903\n",
      "906\n",
      "909\n",
      "912\n",
      "915\n",
      "918\n",
      "921\n",
      "924\n",
      "927\n",
      "930\n",
      "933\n",
      "936\n",
      "939\n",
      "942\n",
      "945\n",
      "948\n",
      "951\n",
      "954\n",
      "957\n",
      "960\n",
      "963\n",
      "966\n",
      "969\n",
      "972\n",
      "975\n",
      "978\n",
      "981\n",
      "984\n",
      "987\n",
      "990\n",
      "993\n",
      "996\n",
      "999\n",
      "1002\n",
      "1005\n",
      "1008\n",
      "1011\n",
      "1014\n",
      "1017\n",
      "1020\n",
      "1023\n",
      "1026\n",
      "1029\n",
      "1032\n",
      "1035\n",
      "1038\n",
      "1041\n",
      "1044\n",
      "1047\n",
      "1050\n",
      "1053\n",
      "1056\n",
      "1059\n",
      "1062\n",
      "1065\n",
      "1068\n",
      "1071\n",
      "1074\n",
      "1077\n",
      "1080\n",
      "1083\n",
      "1086\n",
      "1089\n",
      "1092\n",
      "1095\n",
      "1098\n",
      "1101\n",
      "1104\n",
      "1107\n",
      "1110\n",
      "1113\n",
      "1116\n",
      "1119\n",
      "1122\n",
      "1125\n",
      "1128\n",
      "1131\n",
      "1134\n",
      "1137\n",
      "1140\n",
      "1143\n",
      "1146\n",
      "1149\n",
      "1152\n",
      "1155\n",
      "1158\n",
      "1161\n",
      "1164\n",
      "1167\n",
      "1170\n",
      "1173\n",
      "1176\n",
      "1179\n",
      "1182\n",
      "1185\n",
      "1188\n",
      "1191\n",
      "1194\n",
      "1197\n",
      "1200\n",
      "1203\n",
      "1206\n",
      "1209\n",
      "1212\n",
      "1215\n",
      "1218\n",
      "1221\n",
      "1224\n",
      "1227\n",
      "1230\n",
      "1233\n",
      "1236\n",
      "1239\n",
      "1242\n",
      "1245\n",
      "1248\n",
      "1251\n",
      "1254\n",
      "1257\n",
      "1260\n",
      "1263\n",
      "1266\n",
      "1269\n",
      "1272\n",
      "1275\n",
      "1278\n",
      "1281\n",
      "1284\n",
      "1287\n",
      "1290\n",
      "1293\n",
      "1296\n",
      "1299\n",
      "1302\n",
      "1305\n",
      "1308\n",
      "1311\n",
      "1314\n",
      "1317\n",
      "1320\n",
      "1323\n",
      "1326\n",
      "1329\n",
      "1332\n",
      "1335\n",
      "1338\n",
      "1341\n",
      "1344\n",
      "1347\n",
      "1350\n",
      "1353\n",
      "1356\n",
      "1359\n",
      "1362\n",
      "1365\n",
      "1368\n",
      "1371\n",
      "1374\n",
      "1377\n",
      "1380\n",
      "1383\n",
      "1386\n",
      "1389\n",
      "1392\n",
      "1395\n",
      "1398\n",
      "1401\n",
      "1404\n",
      "1407\n",
      "1410\n",
      "1413\n",
      "1416\n",
      "1419\n",
      "1422\n",
      "1425\n",
      "1428\n",
      "1431\n",
      "1434\n",
      "1437\n",
      "1440\n",
      "1443\n",
      "1446\n",
      "1449\n",
      "1452\n",
      "1455\n",
      "1458\n",
      "1461\n",
      "1464\n",
      "1467\n",
      "1470\n",
      "1473\n",
      "1476\n",
      "1479\n",
      "1482\n",
      "1485\n",
      "1488\n",
      "1491\n",
      "1494\n",
      "1497\n"
     ]
    }
   ],
   "source": [
    "el = 0\n",
    "while el < 1500:\n",
    "    print(el)\n",
    "    # el = el + 1\n",
    "    el += 3"
   ]
  },
  {
   "attachments": {},
   "cell_type": "markdown",
   "metadata": {},
   "source": [
    "# Logical Statements"
   ]
  },
  {
   "cell_type": "code",
   "execution_count": 75,
   "metadata": {},
   "outputs": [],
   "source": [
    "bool_variable_1 = True\n",
    "bool_variable_2 = False"
   ]
  },
  {
   "cell_type": "code",
   "execution_count": 79,
   "metadata": {},
   "outputs": [
    {
     "name": "stdout",
     "output_type": "stream",
     "text": [
      "True\n",
      "True\n",
      "False\n",
      "True\n",
      "False\n",
      "True\n"
     ]
    }
   ],
   "source": [
    "print(bool_variable_1 or bool_variable_1)\n",
    "print(bool_variable_1 and bool_variable_1)\n",
    "print(bool_variable_1 ^ bool_variable_1)\n",
    "\n",
    "print(bool_variable_2 or bool_variable_1)\n",
    "print(bool_variable_2 and bool_variable_1)\n",
    "print(bool_variable_2 ^ bool_variable_1)"
   ]
  },
  {
   "cell_type": "code",
   "execution_count": 81,
   "metadata": {},
   "outputs": [
    {
     "name": "stdout",
     "output_type": "stream",
     "text": [
      "No its not so well outside\n"
     ]
    }
   ],
   "source": [
    "temperature = 20 # degrees celcium\n",
    "humidity = 'high'\n",
    "\n",
    "if temperature > 20 and humidity == 'low':\n",
    "    print('Yes go for walk')\n",
    "elif temperature >= 20 and humidity == 'high':\n",
    "    print('No its not so well outside')\n",
    "else:\n",
    "    print('It not the best time for walk')"
   ]
  },
  {
   "cell_type": "code",
   "execution_count": null,
   "metadata": {},
   "outputs": [],
   "source": []
  }
 ],
 "metadata": {
  "kernelspec": {
   "display_name": "Python 3",
   "language": "python",
   "name": "python3"
  },
  "language_info": {
   "codemirror_mode": {
    "name": "ipython",
    "version": 3
   },
   "file_extension": ".py",
   "mimetype": "text/x-python",
   "name": "python",
   "nbconvert_exporter": "python",
   "pygments_lexer": "ipython3",
   "version": "3.10.0"
  },
  "orig_nbformat": 4
 },
 "nbformat": 4,
 "nbformat_minor": 2
}
