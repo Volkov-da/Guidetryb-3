{
 "cells": [
  {
   "cell_type": "code",
   "execution_count": 1,
   "metadata": {},
   "outputs": [],
   "source": [
    "import numpy as np # numerical calculation and linear algebra\n",
    "import pandas as pd # tabular data processing\n",
    "import matplotlib.pyplot as plt # plotting"
   ]
  },
  {
   "attachments": {},
   "cell_type": "markdown",
   "metadata": {},
   "source": [
    "# NumPy"
   ]
  },
  {
   "cell_type": "code",
   "execution_count": 7,
   "metadata": {},
   "outputs": [],
   "source": [
    "list_of_integers_1 = [1,  2,  3,  4,  5]\n",
    "list_of_integers_2 = [10, 11, 12, 13, 14]"
   ]
  },
  {
   "cell_type": "code",
   "execution_count": 8,
   "metadata": {},
   "outputs": [],
   "source": [
    "numpy_list_1 = np.array(list_of_integers_1)\n",
    "numpy_list_2 = np.array(list_of_integers_2)"
   ]
  },
  {
   "cell_type": "code",
   "execution_count": 11,
   "metadata": {},
   "outputs": [
    {
     "data": {
      "text/plain": [
       "array([10, 22, 36, 52, 70])"
      ]
     },
     "execution_count": 11,
     "metadata": {},
     "output_type": "execute_result"
    }
   ],
   "source": [
    "numpy_list_1 * numpy_list_2"
   ]
  },
  {
   "cell_type": "code",
   "execution_count": 12,
   "metadata": {},
   "outputs": [],
   "source": [
    "numpy_matrix_1 = np.array([[1, 2, 3], [4, 5, 6], [7, 8, 9]])\n",
    "numpy_matrix_2 = np.array([[11, 12, 13], [14, 15, 16], [17, 18, 19]])"
   ]
  },
  {
   "cell_type": "code",
   "execution_count": 13,
   "metadata": {},
   "outputs": [
    {
     "data": {
      "text/plain": [
       "array([[1, 2, 3],\n",
       "       [4, 5, 6],\n",
       "       [7, 8, 9]])"
      ]
     },
     "execution_count": 13,
     "metadata": {},
     "output_type": "execute_result"
    }
   ],
   "source": [
    "numpy_matrix_1"
   ]
  },
  {
   "cell_type": "code",
   "execution_count": 14,
   "metadata": {},
   "outputs": [
    {
     "data": {
      "text/plain": [
       "array([[11, 12, 13],\n",
       "       [14, 15, 16],\n",
       "       [17, 18, 19]])"
      ]
     },
     "execution_count": 14,
     "metadata": {},
     "output_type": "execute_result"
    }
   ],
   "source": [
    "numpy_matrix_2"
   ]
  },
  {
   "cell_type": "code",
   "execution_count": 15,
   "metadata": {},
   "outputs": [
    {
     "data": {
      "text/plain": [
       "array([[10, 10, 10],\n",
       "       [10, 10, 10],\n",
       "       [10, 10, 10]])"
      ]
     },
     "execution_count": 15,
     "metadata": {},
     "output_type": "execute_result"
    }
   ],
   "source": [
    "numpy_matrix_2 - numpy_matrix_1"
   ]
  },
  {
   "cell_type": "code",
   "execution_count": 18,
   "metadata": {},
   "outputs": [
    {
     "data": {
      "text/plain": [
       "array([[ 121,  288,  507],\n",
       "       [ 784, 1125, 1536],\n",
       "       [2023, 2592, 3249]])"
      ]
     },
     "execution_count": 18,
     "metadata": {},
     "output_type": "execute_result"
    }
   ],
   "source": [
    "numpy_matrix_2 * numpy_matrix_1 * numpy_matrix_2"
   ]
  },
  {
   "cell_type": "code",
   "execution_count": 19,
   "metadata": {},
   "outputs": [
    {
     "data": {
      "text/plain": [
       "array([[2448, 3006, 3564],\n",
       "       [3042, 3735, 4428],\n",
       "       [3636, 4464, 5292]])"
      ]
     },
     "execution_count": 19,
     "metadata": {},
     "output_type": "execute_result"
    }
   ],
   "source": [
    "numpy_matrix_2 @ numpy_matrix_1 @ numpy_matrix_1"
   ]
  },
  {
   "attachments": {},
   "cell_type": "markdown",
   "metadata": {},
   "source": [
    "## Random numbers"
   ]
  },
  {
   "cell_type": "code",
   "execution_count": 23,
   "metadata": {},
   "outputs": [
    {
     "data": {
      "text/plain": [
       "array([0.50307291, 0.79916399, 0.86264164, 0.62623819, 0.5471665 ,\n",
       "       0.63038695, 0.17243301, 0.08438195, 0.87774717, 0.25238242])"
      ]
     },
     "execution_count": 23,
     "metadata": {},
     "output_type": "execute_result"
    }
   ],
   "source": [
    "np.random.rand(10)"
   ]
  },
  {
   "cell_type": "code",
   "execution_count": 24,
   "metadata": {},
   "outputs": [
    {
     "data": {
      "text/plain": [
       "array([[0.86878396, 0.31691435, 0.58732965, 0.6566386 , 0.8729672 ,\n",
       "        0.4910235 , 0.09198797, 0.2264669 , 0.12072172, 0.91660698],\n",
       "       [0.14692209, 0.66624827, 0.42857883, 0.05545194, 0.76364332,\n",
       "        0.7045931 , 0.66697768, 0.19108157, 0.07075321, 0.57583896],\n",
       "       [0.55846618, 0.0784278 , 0.09576705, 0.84715915, 0.13056543,\n",
       "        0.09957215, 0.0149346 , 0.15872816, 0.3298409 , 0.34710411],\n",
       "       [0.79169981, 0.06622825, 0.51823173, 0.53323747, 0.46254103,\n",
       "        0.21534666, 0.03673206, 0.29989505, 0.36030717, 0.0946397 ],\n",
       "       [0.82737502, 0.61482789, 0.72360269, 0.84853355, 0.57706301,\n",
       "        0.48856752, 0.74267803, 0.40253489, 0.73965235, 0.14060067],\n",
       "       [0.17320739, 0.69700389, 0.19735875, 0.72542951, 0.70059484,\n",
       "        0.06806569, 0.25707271, 0.63426509, 0.90915542, 0.24011843],\n",
       "       [0.56695048, 0.61484216, 0.59683426, 0.47174295, 0.52135831,\n",
       "        0.75409456, 0.60725882, 0.04562106, 0.15019471, 0.6477566 ],\n",
       "       [0.88715349, 0.64149194, 0.66395417, 0.60178444, 0.76166562,\n",
       "        0.86478971, 0.94101798, 0.22667466, 0.44572135, 0.84575335],\n",
       "       [0.38742782, 0.44419508, 0.89817188, 0.10896115, 0.35977304,\n",
       "        0.98519223, 0.79340338, 0.52539707, 0.12136244, 0.18609149],\n",
       "       [0.65694499, 0.68420486, 0.62828526, 0.70243839, 0.7184462 ,\n",
       "        0.78183612, 0.21881171, 0.16264833, 0.34238828, 0.56560111]])"
      ]
     },
     "execution_count": 24,
     "metadata": {},
     "output_type": "execute_result"
    }
   ],
   "source": [
    "np.random.rand(10, 10)"
   ]
  },
  {
   "cell_type": "code",
   "execution_count": 39,
   "metadata": {},
   "outputs": [
    {
     "name": "stdout",
     "output_type": "stream",
     "text": [
      "0.5999291966249876\n",
      "0.26581911753550724\n",
      "0.2846858806413638\n",
      "0.2535882057737875\n",
      "0.3275639476887341\n",
      "0.14416430065342045\n",
      "0.1656128612012676\n",
      "0.9639305290679419\n",
      "0.9602267152856938\n",
      "0.18841465559593518\n"
     ]
    }
   ],
   "source": [
    "# np.random.seed(5)\n",
    "random_numbers_list = np.random.rand(10)\n",
    "for random_el in random_numbers_list:\n",
    "    print(random_el)"
   ]
  },
  {
   "attachments": {},
   "cell_type": "markdown",
   "metadata": {},
   "source": [
    "# Complex math functions"
   ]
  },
  {
   "cell_type": "code",
   "execution_count": 42,
   "metadata": {},
   "outputs": [
    {
     "data": {
      "text/plain": [
       "(0.8414709848078965, 0.5403023058681398, 1.557407724654902)"
      ]
     },
     "execution_count": 42,
     "metadata": {},
     "output_type": "execute_result"
    }
   ],
   "source": [
    "np.sin(1), np.cos(1), np.tan(1)"
   ]
  },
  {
   "cell_type": "code",
   "execution_count": 43,
   "metadata": {},
   "outputs": [],
   "source": [
    "list_of_numbers = np.arange(1, 100, 1)"
   ]
  },
  {
   "cell_type": "code",
   "execution_count": 44,
   "metadata": {},
   "outputs": [
    {
     "data": {
      "text/plain": [
       "array([ 1,  2,  3,  4,  5,  6,  7,  8,  9, 10, 11, 12, 13, 14, 15, 16, 17,\n",
       "       18, 19, 20, 21, 22, 23, 24, 25, 26, 27, 28, 29, 30, 31, 32, 33, 34,\n",
       "       35, 36, 37, 38, 39, 40, 41, 42, 43, 44, 45, 46, 47, 48, 49, 50, 51,\n",
       "       52, 53, 54, 55, 56, 57, 58, 59, 60, 61, 62, 63, 64, 65, 66, 67, 68,\n",
       "       69, 70, 71, 72, 73, 74, 75, 76, 77, 78, 79, 80, 81, 82, 83, 84, 85,\n",
       "       86, 87, 88, 89, 90, 91, 92, 93, 94, 95, 96, 97, 98, 99])"
      ]
     },
     "execution_count": 44,
     "metadata": {},
     "output_type": "execute_result"
    }
   ],
   "source": [
    "list_of_numbers"
   ]
  },
  {
   "cell_type": "code",
   "execution_count": 45,
   "metadata": {},
   "outputs": [],
   "source": [
    "list_of_sin_numbers = np.sin(list_of_numbers)"
   ]
  },
  {
   "cell_type": "code",
   "execution_count": 48,
   "metadata": {},
   "outputs": [
    {
     "data": {
      "text/plain": [
       "[<matplotlib.lines.Line2D at 0x1142c3be0>]"
      ]
     },
     "execution_count": 48,
     "metadata": {},
     "output_type": "execute_result"
    },
    {
     "data": {
      "image/png": "[encoded data removed]",
      "text/plain": [
       "<Figure size 432x288 with 1 Axes>"
      ]
     },
     "metadata": {
      "needs_background": "light"
     },
     "output_type": "display_data"
    }
   ],
   "source": [
    "plt.plot(list_of_sin_numbers)"
   ]
  },
  {
   "cell_type": "code",
   "execution_count": 49,
   "metadata": {},
   "outputs": [
    {
     "data": {
      "text/plain": [
       "2.302585092994046"
      ]
     },
     "execution_count": 49,
     "metadata": {},
     "output_type": "execute_result"
    }
   ],
   "source": [
    "np.log(10)"
   ]
  },
  {
   "cell_type": "code",
   "execution_count": 50,
   "metadata": {},
   "outputs": [
    {
     "data": {
      "text/plain": [
       "array([0.        , 0.69314718, 1.09861229, 1.38629436, 1.60943791,\n",
       "       1.79175947, 1.94591015, 2.07944154, 2.19722458, 2.30258509,\n",
       "       2.39789527, 2.48490665, 2.56494936, 2.63905733, 2.7080502 ,\n",
       "       2.77258872, 2.83321334, 2.89037176, 2.94443898, 2.99573227,\n",
       "       3.04452244, 3.09104245, 3.13549422, 3.17805383, 3.21887582,\n",
       "       3.25809654, 3.29583687, 3.33220451, 3.36729583, 3.40119738,\n",
       "       3.4339872 , 3.4657359 , 3.49650756, 3.52636052, 3.55534806,\n",
       "       3.58351894, 3.61091791, 3.63758616, 3.66356165, 3.68887945,\n",
       "       3.71357207, 3.73766962, 3.76120012, 3.78418963, 3.80666249,\n",
       "       3.8286414 , 3.8501476 , 3.87120101, 3.8918203 , 3.91202301,\n",
       "       3.93182563, 3.95124372, 3.97029191, 3.98898405, 4.00733319,\n",
       "       4.02535169, 4.04305127, 4.06044301, 4.07753744, 4.09434456,\n",
       "       4.11087386, 4.12713439, 4.14313473, 4.15888308, 4.17438727,\n",
       "       4.18965474, 4.20469262, 4.21950771, 4.2341065 , 4.24849524,\n",
       "       4.26267988, 4.27666612, 4.29045944, 4.30406509, 4.31748811,\n",
       "       4.33073334, 4.34380542, 4.35670883, 4.36944785, 4.38202663,\n",
       "       4.39444915, 4.40671925, 4.41884061, 4.4308168 , 4.44265126,\n",
       "       4.4543473 , 4.46590812, 4.47733681, 4.48863637, 4.49980967,\n",
       "       4.51085951, 4.52178858, 4.53259949, 4.54329478, 4.55387689,\n",
       "       4.56434819, 4.57471098, 4.58496748, 4.59511985])"
      ]
     },
     "execution_count": 50,
     "metadata": {},
     "output_type": "execute_result"
    }
   ],
   "source": [
    "np.log(list_of_numbers)"
   ]
  },
  {
   "cell_type": "code",
   "execution_count": 51,
   "metadata": {},
   "outputs": [
    {
     "data": {
      "text/plain": [
       "array([0.        , 0.30103   , 0.47712125, 0.60205999, 0.69897   ,\n",
       "       0.77815125, 0.84509804, 0.90308999, 0.95424251, 1.        ,\n",
       "       1.04139269, 1.07918125, 1.11394335, 1.14612804, 1.17609126,\n",
       "       1.20411998, 1.23044892, 1.25527251, 1.2787536 , 1.30103   ,\n",
       "       1.32221929, 1.34242268, 1.36172784, 1.38021124, 1.39794001,\n",
       "       1.41497335, 1.43136376, 1.44715803, 1.462398  , 1.47712125,\n",
       "       1.49136169, 1.50514998, 1.51851394, 1.53147892, 1.54406804,\n",
       "       1.5563025 , 1.56820172, 1.5797836 , 1.59106461, 1.60205999,\n",
       "       1.61278386, 1.62324929, 1.63346846, 1.64345268, 1.65321251,\n",
       "       1.66275783, 1.67209786, 1.68124124, 1.69019608, 1.69897   ,\n",
       "       1.70757018, 1.71600334, 1.72427587, 1.73239376, 1.74036269,\n",
       "       1.74818803, 1.75587486, 1.76342799, 1.77085201, 1.77815125,\n",
       "       1.78532984, 1.79239169, 1.79934055, 1.80617997, 1.81291336,\n",
       "       1.81954394, 1.8260748 , 1.83250891, 1.83884909, 1.84509804,\n",
       "       1.85125835, 1.8573325 , 1.86332286, 1.86923172, 1.87506126,\n",
       "       1.88081359, 1.88649073, 1.8920946 , 1.89762709, 1.90308999,\n",
       "       1.90848502, 1.91381385, 1.91907809, 1.92427929, 1.92941893,\n",
       "       1.93449845, 1.93951925, 1.94448267, 1.94939001, 1.95424251,\n",
       "       1.95904139, 1.96378783, 1.96848295, 1.97312785, 1.97772361,\n",
       "       1.98227123, 1.98677173, 1.99122608, 1.99563519])"
      ]
     },
     "execution_count": 51,
     "metadata": {},
     "output_type": "execute_result"
    }
   ],
   "source": [
    "np.log10(list_of_numbers)"
   ]
  },
  {
   "cell_type": "code",
   "execution_count": 52,
   "metadata": {},
   "outputs": [
    {
     "data": {
      "text/plain": [
       "array([2.71828183e+00, 7.38905610e+00, 2.00855369e+01, 5.45981500e+01,\n",
       "       1.48413159e+02, 4.03428793e+02, 1.09663316e+03, 2.98095799e+03,\n",
       "       8.10308393e+03, 2.20264658e+04, 5.98741417e+04, 1.62754791e+05,\n",
       "       4.42413392e+05, 1.20260428e+06, 3.26901737e+06, 8.88611052e+06,\n",
       "       2.41549528e+07, 6.56599691e+07, 1.78482301e+08, 4.85165195e+08,\n",
       "       1.31881573e+09, 3.58491285e+09, 9.74480345e+09, 2.64891221e+10,\n",
       "       7.20048993e+10, 1.95729609e+11, 5.32048241e+11, 1.44625706e+12,\n",
       "       3.93133430e+12, 1.06864746e+13, 2.90488497e+13, 7.89629602e+13,\n",
       "       2.14643580e+14, 5.83461743e+14, 1.58601345e+15, 4.31123155e+15,\n",
       "       1.17191424e+16, 3.18559318e+16, 8.65934004e+16, 2.35385267e+17,\n",
       "       6.39843494e+17, 1.73927494e+18, 4.72783947e+18, 1.28516001e+19,\n",
       "       3.49342711e+19, 9.49611942e+19, 2.58131289e+20, 7.01673591e+20,\n",
       "       1.90734657e+21, 5.18470553e+21, 1.40934908e+22, 3.83100800e+22,\n",
       "       1.04137594e+23, 2.83075330e+23, 7.69478527e+23, 2.09165950e+24,\n",
       "       5.68572000e+24, 1.54553894e+25, 4.20121040e+25, 1.14200739e+26,\n",
       "       3.10429794e+26, 8.43835667e+26, 2.29378316e+27, 6.23514908e+27,\n",
       "       1.69488924e+28, 4.60718663e+28, 1.25236317e+29, 3.40427605e+29,\n",
       "       9.25378173e+29, 2.51543867e+30, 6.83767123e+30, 1.85867175e+31,\n",
       "       5.05239363e+31, 1.37338298e+32, 3.73324200e+32, 1.01480039e+33,\n",
       "       2.75851345e+33, 7.49841700e+33, 2.03828107e+34, 5.54062238e+34,\n",
       "       1.50609731e+35, 4.09399696e+35, 1.11286375e+36, 3.02507732e+36,\n",
       "       8.22301271e+36, 2.23524660e+37, 6.07603023e+37, 1.65163625e+38,\n",
       "       4.48961282e+38, 1.22040329e+39, 3.31740010e+39, 9.01762841e+39,\n",
       "       2.45124554e+40, 6.66317622e+40, 1.81123908e+41, 4.92345829e+41,\n",
       "       1.33833472e+42, 3.63797095e+42, 9.88903032e+42])"
      ]
     },
     "execution_count": 52,
     "metadata": {},
     "output_type": "execute_result"
    }
   ],
   "source": [
    "np.exp(list_of_numbers)"
   ]
  },
  {
   "attachments": {},
   "cell_type": "markdown",
   "metadata": {},
   "source": [
    "# Constants"
   ]
  },
  {
   "cell_type": "code",
   "execution_count": 53,
   "metadata": {},
   "outputs": [
    {
     "data": {
      "text/plain": [
       "3.141592653589793"
      ]
     },
     "execution_count": 53,
     "metadata": {},
     "output_type": "execute_result"
    }
   ],
   "source": [
    "np.pi"
   ]
  },
  {
   "cell_type": "code",
   "execution_count": 54,
   "metadata": {},
   "outputs": [
    {
     "data": {
      "text/plain": [
       "2.718281828459045"
      ]
     },
     "execution_count": 54,
     "metadata": {},
     "output_type": "execute_result"
    }
   ],
   "source": [
    "np.e"
   ]
  },
  {
   "attachments": {},
   "cell_type": "markdown",
   "metadata": {},
   "source": [
    "# Pandas\n",
    "Tabular data processing"
   ]
  },
  {
   "cell_type": "code",
   "execution_count": 55,
   "metadata": {},
   "outputs": [],
   "source": [
    "import pandas as pd"
   ]
  },
  {
   "cell_type": "code",
   "execution_count": 60,
   "metadata": {},
   "outputs": [],
   "source": [
    "data_frame = pd.read_csv('salary_data.csv', sep=';')"
   ]
  },
  {
   "cell_type": "code",
   "execution_count": 62,
   "metadata": {},
   "outputs": [
    {
     "data": {
      "text/html": [
       "<div>\n",
       "<style scoped>\n",
       "    .dataframe tbody tr th:only-of-type {\n",
       "        vertical-align: middle;\n",
       "    }\n",
       "\n",
       "    .dataframe tbody tr th {\n",
       "        vertical-align: top;\n",
       "    }\n",
       "\n",
       "    .dataframe thead th {\n",
       "        text-align: right;\n",
       "    }\n",
       "</style>\n",
       "<table border=\"1\" class=\"dataframe\">\n",
       "  <thead>\n",
       "    <tr style=\"text-align: right;\">\n",
       "      <th></th>\n",
       "      <th>company_name</th>\n",
       "      <th>salary</th>\n",
       "    </tr>\n",
       "  </thead>\n",
       "  <tbody>\n",
       "    <tr>\n",
       "      <th>0</th>\n",
       "      <td>Atos</td>\n",
       "      <td>135000</td>\n",
       "    </tr>\n",
       "    <tr>\n",
       "      <th>1</th>\n",
       "      <td>ХайТэк</td>\n",
       "      <td>24400</td>\n",
       "    </tr>\n",
       "    <tr>\n",
       "      <th>2</th>\n",
       "      <td>Philax</td>\n",
       "      <td>128600</td>\n",
       "    </tr>\n",
       "    <tr>\n",
       "      <th>3</th>\n",
       "      <td>Инлайн Груп</td>\n",
       "      <td>43900</td>\n",
       "    </tr>\n",
       "    <tr>\n",
       "      <th>4</th>\n",
       "      <td>IBS</td>\n",
       "      <td>70600</td>\n",
       "    </tr>\n",
       "    <tr>\n",
       "      <th>...</th>\n",
       "      <td>...</td>\n",
       "      <td>...</td>\n",
       "    </tr>\n",
       "    <tr>\n",
       "      <th>9995</th>\n",
       "      <td>TerraLink</td>\n",
       "      <td>117000</td>\n",
       "    </tr>\n",
       "    <tr>\n",
       "      <th>9996</th>\n",
       "      <td>Atos</td>\n",
       "      <td>106100</td>\n",
       "    </tr>\n",
       "    <tr>\n",
       "      <th>9997</th>\n",
       "      <td>Angara</td>\n",
       "      <td>16800</td>\n",
       "    </tr>\n",
       "    <tr>\n",
       "      <th>9998</th>\n",
       "      <td>Atos</td>\n",
       "      <td>130400</td>\n",
       "    </tr>\n",
       "    <tr>\n",
       "      <th>9999</th>\n",
       "      <td>Itransition</td>\n",
       "      <td>101700</td>\n",
       "    </tr>\n",
       "  </tbody>\n",
       "</table>\n",
       "<p>10000 rows × 2 columns</p>\n",
       "</div>"
      ],
      "text/plain": [
       "     company_name  salary\n",
       "0            Atos  135000\n",
       "1          ХайТэк   24400\n",
       "2          Philax  128600\n",
       "3     Инлайн Груп   43900\n",
       "4             IBS   70600\n",
       "...           ...     ...\n",
       "9995    TerraLink  117000\n",
       "9996         Atos  106100\n",
       "9997       Angara   16800\n",
       "9998         Atos  130400\n",
       "9999  Itransition  101700\n",
       "\n",
       "[10000 rows x 2 columns]"
      ]
     },
     "execution_count": 62,
     "metadata": {},
     "output_type": "execute_result"
    }
   ],
   "source": [
    "data_frame"
   ]
  },
  {
   "cell_type": "code",
   "execution_count": 63,
   "metadata": {},
   "outputs": [
    {
     "name": "stdout",
     "output_type": "stream",
     "text": [
      "<class 'pandas.core.frame.DataFrame'>\n",
      "RangeIndex: 10000 entries, 0 to 9999\n",
      "Data columns (total 2 columns):\n",
      " #   Column        Non-Null Count  Dtype \n",
      "---  ------        --------------  ----- \n",
      " 0   company_name  10000 non-null  object\n",
      " 1   salary        10000 non-null  int64 \n",
      "dtypes: int64(1), object(1)\n",
      "memory usage: 156.4+ KB\n"
     ]
    }
   ],
   "source": [
    "data_frame.info()"
   ]
  },
  {
   "cell_type": "code",
   "execution_count": 64,
   "metadata": {},
   "outputs": [
    {
     "data": {
      "text/html": [
       "<div>\n",
       "<style scoped>\n",
       "    .dataframe tbody tr th:only-of-type {\n",
       "        vertical-align: middle;\n",
       "    }\n",
       "\n",
       "    .dataframe tbody tr th {\n",
       "        vertical-align: top;\n",
       "    }\n",
       "\n",
       "    .dataframe thead th {\n",
       "        text-align: right;\n",
       "    }\n",
       "</style>\n",
       "<table border=\"1\" class=\"dataframe\">\n",
       "  <thead>\n",
       "    <tr style=\"text-align: right;\">\n",
       "      <th></th>\n",
       "      <th>salary</th>\n",
       "    </tr>\n",
       "  </thead>\n",
       "  <tbody>\n",
       "    <tr>\n",
       "      <th>count</th>\n",
       "      <td>10000.000000</td>\n",
       "    </tr>\n",
       "    <tr>\n",
       "      <th>mean</th>\n",
       "      <td>80425.940000</td>\n",
       "    </tr>\n",
       "    <tr>\n",
       "      <th>std</th>\n",
       "      <td>40488.908262</td>\n",
       "    </tr>\n",
       "    <tr>\n",
       "      <th>min</th>\n",
       "      <td>10000.000000</td>\n",
       "    </tr>\n",
       "    <tr>\n",
       "      <th>25%</th>\n",
       "      <td>45800.000000</td>\n",
       "    </tr>\n",
       "    <tr>\n",
       "      <th>50%</th>\n",
       "      <td>80400.000000</td>\n",
       "    </tr>\n",
       "    <tr>\n",
       "      <th>75%</th>\n",
       "      <td>115500.000000</td>\n",
       "    </tr>\n",
       "    <tr>\n",
       "      <th>max</th>\n",
       "      <td>150000.000000</td>\n",
       "    </tr>\n",
       "  </tbody>\n",
       "</table>\n",
       "</div>"
      ],
      "text/plain": [
       "              salary\n",
       "count   10000.000000\n",
       "mean    80425.940000\n",
       "std     40488.908262\n",
       "min     10000.000000\n",
       "25%     45800.000000\n",
       "50%     80400.000000\n",
       "75%    115500.000000\n",
       "max    150000.000000"
      ]
     },
     "execution_count": 64,
     "metadata": {},
     "output_type": "execute_result"
    }
   ],
   "source": [
    "data_frame.describe()"
   ]
  },
  {
   "cell_type": "code",
   "execution_count": 65,
   "metadata": {},
   "outputs": [
    {
     "data": {
      "text/plain": [
       "(10000, 2)"
      ]
     },
     "execution_count": 65,
     "metadata": {},
     "output_type": "execute_result"
    }
   ],
   "source": [
    "data_frame.shape"
   ]
  },
  {
   "cell_type": "code",
   "execution_count": 66,
   "metadata": {},
   "outputs": [
    {
     "data": {
      "text/plain": [
       "0       135000\n",
       "1        24400\n",
       "2       128600\n",
       "3        43900\n",
       "4        70600\n",
       "         ...  \n",
       "9995    117000\n",
       "9996    106100\n",
       "9997     16800\n",
       "9998    130400\n",
       "9999    101700\n",
       "Name: salary, Length: 10000, dtype: int64"
      ]
     },
     "execution_count": 66,
     "metadata": {},
     "output_type": "execute_result"
    }
   ],
   "source": [
    "data_frame['salary']"
   ]
  }
 ],
 "metadata": {
  "kernelspec": {
   "display_name": "Python 3",
   "language": "python",
   "name": "python3"
  },
  "language_info": {
   "codemirror_mode": {
    "name": "ipython",
    "version": 3
   },
   "file_extension": ".py",
   "mimetype": "text/x-python",
   "name": "python",
   "nbconvert_exporter": "python",
   "pygments_lexer": "ipython3",
   "version": "3.10.0"
  },
  "orig_nbformat": 4
 },
 "nbformat": 4,
 "nbformat_minor": 2
}
