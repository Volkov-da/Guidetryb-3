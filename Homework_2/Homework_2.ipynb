{
 "cells": [
  {
   "attachments": {},
   "cell_type": "markdown",
   "metadata": {},
   "source": [
    "# Home Work 2. Pandas practice.\n",
    "\n",
    "By the end of this task you will be able to manipulate huge tabular data:\n",
    "1. Select observations/features by condition/index;\n",
    "2. Compute different column's statistics (min, max, mean, quantiles etc.);\n",
    "3. Create new columns (feature engineering);\n",
    "\n",
    "and more.\n",
    "\n",
    "Useful links with `pandas` tutorials:\n",
    "\n",
    "1. Single notebook, covers basic pandas functionality (starting with renaming columns ending with using map, apply etc) ~ 30 short examples with links on videos https://nbviewer.jupyter.org/github/justmarkham/pandas-videos/blob/master/pandas.ipynb . Highly recommended for everyone. (about 1-3 hours to go through)\n",
    "\n",
    "2. https://github.com/guipsamora/pandas_exercises/ 11 topics covering all essential functionality.\n",
    "\n",
    "This task will be an easy ride after these tutorials.\n",
    "\n",
    "We are using house sale price data from King County, Wahington, USA. This dataset is in public domain and can be obtained from Kaggle: https://www.kaggle.com/harlfoxem/housesalesprediction\n",
    "\n",
    "You need to place `kc_house_data.csv` file in the same directory as this notebook."
   ]
  },
  {
   "cell_type": "code",
   "execution_count": 1,
   "metadata": {
    "ExecuteTime": {
     "end_time": "2020-09-24T16:54:11.252152Z",
     "start_time": "2020-09-24T16:54:10.805877Z"
    }
   },
   "outputs": [],
   "source": [
    "import pandas as pd"
   ]
  },
  {
   "attachments": {},
   "cell_type": "markdown",
   "metadata": {},
   "source": [
    "# 0. Loading data\n",
    "\n",
    "As always in Data Science you are starting with making nice cup of tea (or coffee). Your next move is to load the data:\n",
    "\n",
    "Methods to use:\n",
    "* `pd.read_csv()`"
   ]
  },
  {
   "cell_type": "code",
   "execution_count": 2,
   "metadata": {
    "ExecuteTime": {
     "end_time": "2020-09-24T16:54:11.311979Z",
     "start_time": "2020-09-24T16:54:11.261227Z"
    }
   },
   "outputs": [],
   "source": [
    "# Load the data\n",
    "house_data = pd.read_csv(\"kc_house_data.csv\", index_col='id')"
   ]
  },
  {
   "attachments": {},
   "cell_type": "markdown",
   "metadata": {},
   "source": [
    "# 1. Data inspection\n",
    "Methods to use:\n",
    "* `df.head()`\n",
    "* `df.tail()`\n",
    "* `df.columns`\n",
    "* `df.shape`"
   ]
  },
  {
   "attachments": {},
   "cell_type": "markdown",
   "metadata": {
    "ExecuteTime": {
     "end_time": "2020-09-24T16:54:11.368708Z",
     "start_time": "2020-09-24T16:54:11.364864Z"
    }
   },
   "source": [
    "## Q1.0 \n",
    "Display first 10 observations."
   ]
  },
  {
   "cell_type": "code",
   "execution_count": 3,
   "metadata": {},
   "outputs": [
    {
     "data": {
      "text/html": [
       "<div>\n",
       "<style scoped>\n",
       "    .dataframe tbody tr th:only-of-type {\n",
       "        vertical-align: middle;\n",
       "    }\n",
       "\n",
       "    .dataframe tbody tr th {\n",
       "        vertical-align: top;\n",
       "    }\n",
       "\n",
       "    .dataframe thead th {\n",
       "        text-align: right;\n",
       "    }\n",
       "</style>\n",
       "<table border=\"1\" class=\"dataframe\">\n",
       "  <thead>\n",
       "    <tr style=\"text-align: right;\">\n",
       "      <th></th>\n",
       "      <th>date</th>\n",
       "      <th>price</th>\n",
       "      <th>bedrooms</th>\n",
       "      <th>bathrooms</th>\n",
       "      <th>sqft_living</th>\n",
       "      <th>sqft_lot</th>\n",
       "      <th>floors</th>\n",
       "      <th>waterfront</th>\n",
       "      <th>view</th>\n",
       "      <th>condition</th>\n",
       "      <th>grade</th>\n",
       "      <th>sqft_above</th>\n",
       "      <th>sqft_basement</th>\n",
       "      <th>yr_built</th>\n",
       "      <th>yr_renovated</th>\n",
       "      <th>zipcode</th>\n",
       "      <th>lat</th>\n",
       "      <th>long</th>\n",
       "      <th>sqft_living15</th>\n",
       "      <th>sqft_lot15</th>\n",
       "    </tr>\n",
       "    <tr>\n",
       "      <th>id</th>\n",
       "      <th></th>\n",
       "      <th></th>\n",
       "      <th></th>\n",
       "      <th></th>\n",
       "      <th></th>\n",
       "      <th></th>\n",
       "      <th></th>\n",
       "      <th></th>\n",
       "      <th></th>\n",
       "      <th></th>\n",
       "      <th></th>\n",
       "      <th></th>\n",
       "      <th></th>\n",
       "      <th></th>\n",
       "      <th></th>\n",
       "      <th></th>\n",
       "      <th></th>\n",
       "      <th></th>\n",
       "      <th></th>\n",
       "      <th></th>\n",
       "    </tr>\n",
       "  </thead>\n",
       "  <tbody>\n",
       "    <tr>\n",
       "      <th>7129300520</th>\n",
       "      <td>20141013T000000</td>\n",
       "      <td>221900.0</td>\n",
       "      <td>3</td>\n",
       "      <td>1.00</td>\n",
       "      <td>1180</td>\n",
       "      <td>5650</td>\n",
       "      <td>1.0</td>\n",
       "      <td>0</td>\n",
       "      <td>0</td>\n",
       "      <td>3</td>\n",
       "      <td>7</td>\n",
       "      <td>1180</td>\n",
       "      <td>0</td>\n",
       "      <td>1955</td>\n",
       "      <td>0</td>\n",
       "      <td>98178</td>\n",
       "      <td>47.5112</td>\n",
       "      <td>-122.257</td>\n",
       "      <td>1340</td>\n",
       "      <td>5650</td>\n",
       "    </tr>\n",
       "    <tr>\n",
       "      <th>6414100192</th>\n",
       "      <td>20141209T000000</td>\n",
       "      <td>538000.0</td>\n",
       "      <td>3</td>\n",
       "      <td>2.25</td>\n",
       "      <td>2570</td>\n",
       "      <td>7242</td>\n",
       "      <td>2.0</td>\n",
       "      <td>0</td>\n",
       "      <td>0</td>\n",
       "      <td>3</td>\n",
       "      <td>7</td>\n",
       "      <td>2170</td>\n",
       "      <td>400</td>\n",
       "      <td>1951</td>\n",
       "      <td>1991</td>\n",
       "      <td>98125</td>\n",
       "      <td>47.7210</td>\n",
       "      <td>-122.319</td>\n",
       "      <td>1690</td>\n",
       "      <td>7639</td>\n",
       "    </tr>\n",
       "    <tr>\n",
       "      <th>5631500400</th>\n",
       "      <td>20150225T000000</td>\n",
       "      <td>180000.0</td>\n",
       "      <td>2</td>\n",
       "      <td>1.00</td>\n",
       "      <td>770</td>\n",
       "      <td>10000</td>\n",
       "      <td>1.0</td>\n",
       "      <td>0</td>\n",
       "      <td>0</td>\n",
       "      <td>3</td>\n",
       "      <td>6</td>\n",
       "      <td>770</td>\n",
       "      <td>0</td>\n",
       "      <td>1933</td>\n",
       "      <td>0</td>\n",
       "      <td>98028</td>\n",
       "      <td>47.7379</td>\n",
       "      <td>-122.233</td>\n",
       "      <td>2720</td>\n",
       "      <td>8062</td>\n",
       "    </tr>\n",
       "    <tr>\n",
       "      <th>2487200875</th>\n",
       "      <td>20141209T000000</td>\n",
       "      <td>604000.0</td>\n",
       "      <td>4</td>\n",
       "      <td>3.00</td>\n",
       "      <td>1960</td>\n",
       "      <td>5000</td>\n",
       "      <td>1.0</td>\n",
       "      <td>0</td>\n",
       "      <td>0</td>\n",
       "      <td>5</td>\n",
       "      <td>7</td>\n",
       "      <td>1050</td>\n",
       "      <td>910</td>\n",
       "      <td>1965</td>\n",
       "      <td>0</td>\n",
       "      <td>98136</td>\n",
       "      <td>47.5208</td>\n",
       "      <td>-122.393</td>\n",
       "      <td>1360</td>\n",
       "      <td>5000</td>\n",
       "    </tr>\n",
       "    <tr>\n",
       "      <th>1954400510</th>\n",
       "      <td>20150218T000000</td>\n",
       "      <td>510000.0</td>\n",
       "      <td>3</td>\n",
       "      <td>2.00</td>\n",
       "      <td>1680</td>\n",
       "      <td>8080</td>\n",
       "      <td>1.0</td>\n",
       "      <td>0</td>\n",
       "      <td>0</td>\n",
       "      <td>3</td>\n",
       "      <td>8</td>\n",
       "      <td>1680</td>\n",
       "      <td>0</td>\n",
       "      <td>1987</td>\n",
       "      <td>0</td>\n",
       "      <td>98074</td>\n",
       "      <td>47.6168</td>\n",
       "      <td>-122.045</td>\n",
       "      <td>1800</td>\n",
       "      <td>7503</td>\n",
       "    </tr>\n",
       "    <tr>\n",
       "      <th>7237550310</th>\n",
       "      <td>20140512T000000</td>\n",
       "      <td>1225000.0</td>\n",
       "      <td>4</td>\n",
       "      <td>4.50</td>\n",
       "      <td>5420</td>\n",
       "      <td>101930</td>\n",
       "      <td>1.0</td>\n",
       "      <td>0</td>\n",
       "      <td>0</td>\n",
       "      <td>3</td>\n",
       "      <td>11</td>\n",
       "      <td>3890</td>\n",
       "      <td>1530</td>\n",
       "      <td>2001</td>\n",
       "      <td>0</td>\n",
       "      <td>98053</td>\n",
       "      <td>47.6561</td>\n",
       "      <td>-122.005</td>\n",
       "      <td>4760</td>\n",
       "      <td>101930</td>\n",
       "    </tr>\n",
       "    <tr>\n",
       "      <th>1321400060</th>\n",
       "      <td>20140627T000000</td>\n",
       "      <td>257500.0</td>\n",
       "      <td>3</td>\n",
       "      <td>2.25</td>\n",
       "      <td>1715</td>\n",
       "      <td>6819</td>\n",
       "      <td>2.0</td>\n",
       "      <td>0</td>\n",
       "      <td>0</td>\n",
       "      <td>3</td>\n",
       "      <td>7</td>\n",
       "      <td>1715</td>\n",
       "      <td>0</td>\n",
       "      <td>1995</td>\n",
       "      <td>0</td>\n",
       "      <td>98003</td>\n",
       "      <td>47.3097</td>\n",
       "      <td>-122.327</td>\n",
       "      <td>2238</td>\n",
       "      <td>6819</td>\n",
       "    </tr>\n",
       "    <tr>\n",
       "      <th>2008000270</th>\n",
       "      <td>20150115T000000</td>\n",
       "      <td>291850.0</td>\n",
       "      <td>3</td>\n",
       "      <td>1.50</td>\n",
       "      <td>1060</td>\n",
       "      <td>9711</td>\n",
       "      <td>1.0</td>\n",
       "      <td>0</td>\n",
       "      <td>0</td>\n",
       "      <td>3</td>\n",
       "      <td>7</td>\n",
       "      <td>1060</td>\n",
       "      <td>0</td>\n",
       "      <td>1963</td>\n",
       "      <td>0</td>\n",
       "      <td>98198</td>\n",
       "      <td>47.4095</td>\n",
       "      <td>-122.315</td>\n",
       "      <td>1650</td>\n",
       "      <td>9711</td>\n",
       "    </tr>\n",
       "    <tr>\n",
       "      <th>2414600126</th>\n",
       "      <td>20150415T000000</td>\n",
       "      <td>229500.0</td>\n",
       "      <td>3</td>\n",
       "      <td>1.00</td>\n",
       "      <td>1780</td>\n",
       "      <td>7470</td>\n",
       "      <td>1.0</td>\n",
       "      <td>0</td>\n",
       "      <td>0</td>\n",
       "      <td>3</td>\n",
       "      <td>7</td>\n",
       "      <td>1050</td>\n",
       "      <td>730</td>\n",
       "      <td>1960</td>\n",
       "      <td>0</td>\n",
       "      <td>98146</td>\n",
       "      <td>47.5123</td>\n",
       "      <td>-122.337</td>\n",
       "      <td>1780</td>\n",
       "      <td>8113</td>\n",
       "    </tr>\n",
       "    <tr>\n",
       "      <th>3793500160</th>\n",
       "      <td>20150312T000000</td>\n",
       "      <td>323000.0</td>\n",
       "      <td>3</td>\n",
       "      <td>2.50</td>\n",
       "      <td>1890</td>\n",
       "      <td>6560</td>\n",
       "      <td>2.0</td>\n",
       "      <td>0</td>\n",
       "      <td>0</td>\n",
       "      <td>3</td>\n",
       "      <td>7</td>\n",
       "      <td>1890</td>\n",
       "      <td>0</td>\n",
       "      <td>2003</td>\n",
       "      <td>0</td>\n",
       "      <td>98038</td>\n",
       "      <td>47.3684</td>\n",
       "      <td>-122.031</td>\n",
       "      <td>2390</td>\n",
       "      <td>7570</td>\n",
       "    </tr>\n",
       "  </tbody>\n",
       "</table>\n",
       "</div>"
      ],
      "text/plain": [
       "                       date      price  bedrooms  bathrooms  sqft_living   \n",
       "id                                                                         \n",
       "7129300520  20141013T000000   221900.0         3       1.00         1180  \\\n",
       "6414100192  20141209T000000   538000.0         3       2.25         2570   \n",
       "5631500400  20150225T000000   180000.0         2       1.00          770   \n",
       "2487200875  20141209T000000   604000.0         4       3.00         1960   \n",
       "1954400510  20150218T000000   510000.0         3       2.00         1680   \n",
       "7237550310  20140512T000000  1225000.0         4       4.50         5420   \n",
       "1321400060  20140627T000000   257500.0         3       2.25         1715   \n",
       "2008000270  20150115T000000   291850.0         3       1.50         1060   \n",
       "2414600126  20150415T000000   229500.0         3       1.00         1780   \n",
       "3793500160  20150312T000000   323000.0         3       2.50         1890   \n",
       "\n",
       "            sqft_lot  floors  waterfront  view  condition  grade  sqft_above   \n",
       "id                                                                             \n",
       "7129300520      5650     1.0           0     0          3      7        1180  \\\n",
       "6414100192      7242     2.0           0     0          3      7        2170   \n",
       "5631500400     10000     1.0           0     0          3      6         770   \n",
       "2487200875      5000     1.0           0     0          5      7        1050   \n",
       "1954400510      8080     1.0           0     0          3      8        1680   \n",
       "7237550310    101930     1.0           0     0          3     11        3890   \n",
       "1321400060      6819     2.0           0     0          3      7        1715   \n",
       "2008000270      9711     1.0           0     0          3      7        1060   \n",
       "2414600126      7470     1.0           0     0          3      7        1050   \n",
       "3793500160      6560     2.0           0     0          3      7        1890   \n",
       "\n",
       "            sqft_basement  yr_built  yr_renovated  zipcode      lat     long   \n",
       "id                                                                             \n",
       "7129300520              0      1955             0    98178  47.5112 -122.257  \\\n",
       "6414100192            400      1951          1991    98125  47.7210 -122.319   \n",
       "5631500400              0      1933             0    98028  47.7379 -122.233   \n",
       "2487200875            910      1965             0    98136  47.5208 -122.393   \n",
       "1954400510              0      1987             0    98074  47.6168 -122.045   \n",
       "7237550310           1530      2001             0    98053  47.6561 -122.005   \n",
       "1321400060              0      1995             0    98003  47.3097 -122.327   \n",
       "2008000270              0      1963             0    98198  47.4095 -122.315   \n",
       "2414600126            730      1960             0    98146  47.5123 -122.337   \n",
       "3793500160              0      2003             0    98038  47.3684 -122.031   \n",
       "\n",
       "            sqft_living15  sqft_lot15  \n",
       "id                                     \n",
       "7129300520           1340        5650  \n",
       "6414100192           1690        7639  \n",
       "5631500400           2720        8062  \n",
       "2487200875           1360        5000  \n",
       "1954400510           1800        7503  \n",
       "7237550310           4760      101930  \n",
       "1321400060           2238        6819  \n",
       "2008000270           1650        9711  \n",
       "2414600126           1780        8113  \n",
       "3793500160           2390        7570  "
      ]
     },
     "execution_count": 3,
     "metadata": {},
     "output_type": "execute_result"
    }
   ],
   "source": [
    "#YOUR CODE HERE"
   ]
  },
  {
   "attachments": {},
   "cell_type": "markdown",
   "metadata": {},
   "source": [
    "## Q1.1\n",
    "What is the price of a house with `id` == 7237550310?"
   ]
  },
  {
   "cell_type": "code",
   "execution_count": 4,
   "metadata": {
    "ExecuteTime": {
     "end_time": "2020-09-24T16:54:11.390259Z",
     "start_time": "2020-09-24T16:54:11.382287Z"
    },
    "scrolled": true
   },
   "outputs": [
    {
     "name": "stdout",
     "output_type": "stream",
     "text": [
      "1225000.0\n"
     ]
    }
   ],
   "source": [
    "#YOUR CODE HERE"
   ]
  },
  {
   "attachments": {},
   "cell_type": "markdown",
   "metadata": {},
   "source": [
    "## Q1.2\n",
    "When was the house with `id` == 2414600126 built (`yr_built`)?"
   ]
  },
  {
   "cell_type": "code",
   "execution_count": 5,
   "metadata": {
    "ExecuteTime": {
     "end_time": "2020-09-24T16:54:11.377603Z",
     "start_time": "2020-09-24T16:54:11.371015Z"
    },
    "scrolled": true
   },
   "outputs": [
    {
     "name": "stdout",
     "output_type": "stream",
     "text": [
      "1960\n"
     ]
    }
   ],
   "source": [
    "#YOUR CODE HERE"
   ]
  },
  {
   "attachments": {},
   "cell_type": "markdown",
   "metadata": {},
   "source": [
    "## Q1.3\n",
    "Observe last 10 rows."
   ]
  },
  {
   "cell_type": "code",
   "execution_count": 6,
   "metadata": {},
   "outputs": [
    {
     "data": {
      "text/html": [
       "<div>\n",
       "<style scoped>\n",
       "    .dataframe tbody tr th:only-of-type {\n",
       "        vertical-align: middle;\n",
       "    }\n",
       "\n",
       "    .dataframe tbody tr th {\n",
       "        vertical-align: top;\n",
       "    }\n",
       "\n",
       "    .dataframe thead th {\n",
       "        text-align: right;\n",
       "    }\n",
       "</style>\n",
       "<table border=\"1\" class=\"dataframe\">\n",
       "  <thead>\n",
       "    <tr style=\"text-align: right;\">\n",
       "      <th></th>\n",
       "      <th>date</th>\n",
       "      <th>price</th>\n",
       "      <th>bedrooms</th>\n",
       "      <th>bathrooms</th>\n",
       "      <th>sqft_living</th>\n",
       "      <th>sqft_lot</th>\n",
       "      <th>floors</th>\n",
       "      <th>waterfront</th>\n",
       "      <th>view</th>\n",
       "      <th>condition</th>\n",
       "      <th>grade</th>\n",
       "      <th>sqft_above</th>\n",
       "      <th>sqft_basement</th>\n",
       "      <th>yr_built</th>\n",
       "      <th>yr_renovated</th>\n",
       "      <th>zipcode</th>\n",
       "      <th>lat</th>\n",
       "      <th>long</th>\n",
       "      <th>sqft_living15</th>\n",
       "      <th>sqft_lot15</th>\n",
       "    </tr>\n",
       "    <tr>\n",
       "      <th>id</th>\n",
       "      <th></th>\n",
       "      <th></th>\n",
       "      <th></th>\n",
       "      <th></th>\n",
       "      <th></th>\n",
       "      <th></th>\n",
       "      <th></th>\n",
       "      <th></th>\n",
       "      <th></th>\n",
       "      <th></th>\n",
       "      <th></th>\n",
       "      <th></th>\n",
       "      <th></th>\n",
       "      <th></th>\n",
       "      <th></th>\n",
       "      <th></th>\n",
       "      <th></th>\n",
       "      <th></th>\n",
       "      <th></th>\n",
       "      <th></th>\n",
       "    </tr>\n",
       "  </thead>\n",
       "  <tbody>\n",
       "    <tr>\n",
       "      <th>7852140040</th>\n",
       "      <td>20140825T000000</td>\n",
       "      <td>507250.0</td>\n",
       "      <td>3</td>\n",
       "      <td>2.50</td>\n",
       "      <td>2270</td>\n",
       "      <td>5536</td>\n",
       "      <td>2.0</td>\n",
       "      <td>0</td>\n",
       "      <td>0</td>\n",
       "      <td>3</td>\n",
       "      <td>8</td>\n",
       "      <td>2270</td>\n",
       "      <td>0</td>\n",
       "      <td>2003</td>\n",
       "      <td>0</td>\n",
       "      <td>98065</td>\n",
       "      <td>47.5389</td>\n",
       "      <td>-121.881</td>\n",
       "      <td>2270</td>\n",
       "      <td>5731</td>\n",
       "    </tr>\n",
       "    <tr>\n",
       "      <th>9834201367</th>\n",
       "      <td>20150126T000000</td>\n",
       "      <td>429000.0</td>\n",
       "      <td>3</td>\n",
       "      <td>2.00</td>\n",
       "      <td>1490</td>\n",
       "      <td>1126</td>\n",
       "      <td>3.0</td>\n",
       "      <td>0</td>\n",
       "      <td>0</td>\n",
       "      <td>3</td>\n",
       "      <td>8</td>\n",
       "      <td>1490</td>\n",
       "      <td>0</td>\n",
       "      <td>2014</td>\n",
       "      <td>0</td>\n",
       "      <td>98144</td>\n",
       "      <td>47.5699</td>\n",
       "      <td>-122.288</td>\n",
       "      <td>1400</td>\n",
       "      <td>1230</td>\n",
       "    </tr>\n",
       "    <tr>\n",
       "      <th>3448900210</th>\n",
       "      <td>20141014T000000</td>\n",
       "      <td>610685.0</td>\n",
       "      <td>4</td>\n",
       "      <td>2.50</td>\n",
       "      <td>2520</td>\n",
       "      <td>6023</td>\n",
       "      <td>2.0</td>\n",
       "      <td>0</td>\n",
       "      <td>0</td>\n",
       "      <td>3</td>\n",
       "      <td>9</td>\n",
       "      <td>2520</td>\n",
       "      <td>0</td>\n",
       "      <td>2014</td>\n",
       "      <td>0</td>\n",
       "      <td>98056</td>\n",
       "      <td>47.5137</td>\n",
       "      <td>-122.167</td>\n",
       "      <td>2520</td>\n",
       "      <td>6023</td>\n",
       "    </tr>\n",
       "    <tr>\n",
       "      <th>7936000429</th>\n",
       "      <td>20150326T000000</td>\n",
       "      <td>1007500.0</td>\n",
       "      <td>4</td>\n",
       "      <td>3.50</td>\n",
       "      <td>3510</td>\n",
       "      <td>7200</td>\n",
       "      <td>2.0</td>\n",
       "      <td>0</td>\n",
       "      <td>0</td>\n",
       "      <td>3</td>\n",
       "      <td>9</td>\n",
       "      <td>2600</td>\n",
       "      <td>910</td>\n",
       "      <td>2009</td>\n",
       "      <td>0</td>\n",
       "      <td>98136</td>\n",
       "      <td>47.5537</td>\n",
       "      <td>-122.398</td>\n",
       "      <td>2050</td>\n",
       "      <td>6200</td>\n",
       "    </tr>\n",
       "    <tr>\n",
       "      <th>2997800021</th>\n",
       "      <td>20150219T000000</td>\n",
       "      <td>475000.0</td>\n",
       "      <td>3</td>\n",
       "      <td>2.50</td>\n",
       "      <td>1310</td>\n",
       "      <td>1294</td>\n",
       "      <td>2.0</td>\n",
       "      <td>0</td>\n",
       "      <td>0</td>\n",
       "      <td>3</td>\n",
       "      <td>8</td>\n",
       "      <td>1180</td>\n",
       "      <td>130</td>\n",
       "      <td>2008</td>\n",
       "      <td>0</td>\n",
       "      <td>98116</td>\n",
       "      <td>47.5773</td>\n",
       "      <td>-122.409</td>\n",
       "      <td>1330</td>\n",
       "      <td>1265</td>\n",
       "    </tr>\n",
       "    <tr>\n",
       "      <th>263000018</th>\n",
       "      <td>20140521T000000</td>\n",
       "      <td>360000.0</td>\n",
       "      <td>3</td>\n",
       "      <td>2.50</td>\n",
       "      <td>1530</td>\n",
       "      <td>1131</td>\n",
       "      <td>3.0</td>\n",
       "      <td>0</td>\n",
       "      <td>0</td>\n",
       "      <td>3</td>\n",
       "      <td>8</td>\n",
       "      <td>1530</td>\n",
       "      <td>0</td>\n",
       "      <td>2009</td>\n",
       "      <td>0</td>\n",
       "      <td>98103</td>\n",
       "      <td>47.6993</td>\n",
       "      <td>-122.346</td>\n",
       "      <td>1530</td>\n",
       "      <td>1509</td>\n",
       "    </tr>\n",
       "    <tr>\n",
       "      <th>6600060120</th>\n",
       "      <td>20150223T000000</td>\n",
       "      <td>400000.0</td>\n",
       "      <td>4</td>\n",
       "      <td>2.50</td>\n",
       "      <td>2310</td>\n",
       "      <td>5813</td>\n",
       "      <td>2.0</td>\n",
       "      <td>0</td>\n",
       "      <td>0</td>\n",
       "      <td>3</td>\n",
       "      <td>8</td>\n",
       "      <td>2310</td>\n",
       "      <td>0</td>\n",
       "      <td>2014</td>\n",
       "      <td>0</td>\n",
       "      <td>98146</td>\n",
       "      <td>47.5107</td>\n",
       "      <td>-122.362</td>\n",
       "      <td>1830</td>\n",
       "      <td>7200</td>\n",
       "    </tr>\n",
       "    <tr>\n",
       "      <th>1523300141</th>\n",
       "      <td>20140623T000000</td>\n",
       "      <td>402101.0</td>\n",
       "      <td>2</td>\n",
       "      <td>0.75</td>\n",
       "      <td>1020</td>\n",
       "      <td>1350</td>\n",
       "      <td>2.0</td>\n",
       "      <td>0</td>\n",
       "      <td>0</td>\n",
       "      <td>3</td>\n",
       "      <td>7</td>\n",
       "      <td>1020</td>\n",
       "      <td>0</td>\n",
       "      <td>2009</td>\n",
       "      <td>0</td>\n",
       "      <td>98144</td>\n",
       "      <td>47.5944</td>\n",
       "      <td>-122.299</td>\n",
       "      <td>1020</td>\n",
       "      <td>2007</td>\n",
       "    </tr>\n",
       "    <tr>\n",
       "      <th>291310100</th>\n",
       "      <td>20150116T000000</td>\n",
       "      <td>400000.0</td>\n",
       "      <td>3</td>\n",
       "      <td>2.50</td>\n",
       "      <td>1600</td>\n",
       "      <td>2388</td>\n",
       "      <td>2.0</td>\n",
       "      <td>0</td>\n",
       "      <td>0</td>\n",
       "      <td>3</td>\n",
       "      <td>8</td>\n",
       "      <td>1600</td>\n",
       "      <td>0</td>\n",
       "      <td>2004</td>\n",
       "      <td>0</td>\n",
       "      <td>98027</td>\n",
       "      <td>47.5345</td>\n",
       "      <td>-122.069</td>\n",
       "      <td>1410</td>\n",
       "      <td>1287</td>\n",
       "    </tr>\n",
       "    <tr>\n",
       "      <th>1523300157</th>\n",
       "      <td>20141015T000000</td>\n",
       "      <td>325000.0</td>\n",
       "      <td>2</td>\n",
       "      <td>0.75</td>\n",
       "      <td>1020</td>\n",
       "      <td>1076</td>\n",
       "      <td>2.0</td>\n",
       "      <td>0</td>\n",
       "      <td>0</td>\n",
       "      <td>3</td>\n",
       "      <td>7</td>\n",
       "      <td>1020</td>\n",
       "      <td>0</td>\n",
       "      <td>2008</td>\n",
       "      <td>0</td>\n",
       "      <td>98144</td>\n",
       "      <td>47.5941</td>\n",
       "      <td>-122.299</td>\n",
       "      <td>1020</td>\n",
       "      <td>1357</td>\n",
       "    </tr>\n",
       "  </tbody>\n",
       "</table>\n",
       "</div>"
      ],
      "text/plain": [
       "                       date      price  bedrooms  bathrooms  sqft_living   \n",
       "id                                                                         \n",
       "7852140040  20140825T000000   507250.0         3       2.50         2270  \\\n",
       "9834201367  20150126T000000   429000.0         3       2.00         1490   \n",
       "3448900210  20141014T000000   610685.0         4       2.50         2520   \n",
       "7936000429  20150326T000000  1007500.0         4       3.50         3510   \n",
       "2997800021  20150219T000000   475000.0         3       2.50         1310   \n",
       "263000018   20140521T000000   360000.0         3       2.50         1530   \n",
       "6600060120  20150223T000000   400000.0         4       2.50         2310   \n",
       "1523300141  20140623T000000   402101.0         2       0.75         1020   \n",
       "291310100   20150116T000000   400000.0         3       2.50         1600   \n",
       "1523300157  20141015T000000   325000.0         2       0.75         1020   \n",
       "\n",
       "            sqft_lot  floors  waterfront  view  condition  grade  sqft_above   \n",
       "id                                                                             \n",
       "7852140040      5536     2.0           0     0          3      8        2270  \\\n",
       "9834201367      1126     3.0           0     0          3      8        1490   \n",
       "3448900210      6023     2.0           0     0          3      9        2520   \n",
       "7936000429      7200     2.0           0     0          3      9        2600   \n",
       "2997800021      1294     2.0           0     0          3      8        1180   \n",
       "263000018       1131     3.0           0     0          3      8        1530   \n",
       "6600060120      5813     2.0           0     0          3      8        2310   \n",
       "1523300141      1350     2.0           0     0          3      7        1020   \n",
       "291310100       2388     2.0           0     0          3      8        1600   \n",
       "1523300157      1076     2.0           0     0          3      7        1020   \n",
       "\n",
       "            sqft_basement  yr_built  yr_renovated  zipcode      lat     long   \n",
       "id                                                                             \n",
       "7852140040              0      2003             0    98065  47.5389 -121.881  \\\n",
       "9834201367              0      2014             0    98144  47.5699 -122.288   \n",
       "3448900210              0      2014             0    98056  47.5137 -122.167   \n",
       "7936000429            910      2009             0    98136  47.5537 -122.398   \n",
       "2997800021            130      2008             0    98116  47.5773 -122.409   \n",
       "263000018               0      2009             0    98103  47.6993 -122.346   \n",
       "6600060120              0      2014             0    98146  47.5107 -122.362   \n",
       "1523300141              0      2009             0    98144  47.5944 -122.299   \n",
       "291310100               0      2004             0    98027  47.5345 -122.069   \n",
       "1523300157              0      2008             0    98144  47.5941 -122.299   \n",
       "\n",
       "            sqft_living15  sqft_lot15  \n",
       "id                                     \n",
       "7852140040           2270        5731  \n",
       "9834201367           1400        1230  \n",
       "3448900210           2520        6023  \n",
       "7936000429           2050        6200  \n",
       "2997800021           1330        1265  \n",
       "263000018            1530        1509  \n",
       "6600060120           1830        7200  \n",
       "1523300141           1020        2007  \n",
       "291310100            1410        1287  \n",
       "1523300157           1020        1357  "
      ]
     },
     "execution_count": 6,
     "metadata": {},
     "output_type": "execute_result"
    }
   ],
   "source": [
    "#YOUR CODE HERE"
   ]
  },
  {
   "attachments": {},
   "cell_type": "markdown",
   "metadata": {},
   "source": [
    "## Q1.4\n",
    "How many floors house with `id` == 2997800021 has?"
   ]
  },
  {
   "cell_type": "code",
   "execution_count": 7,
   "metadata": {
    "ExecuteTime": {
     "end_time": "2020-09-24T16:54:11.429206Z",
     "start_time": "2020-09-24T16:54:11.422804Z"
    }
   },
   "outputs": [
    {
     "name": "stdout",
     "output_type": "stream",
     "text": [
      "2.0\n"
     ]
    }
   ],
   "source": [
    "#YOUR CODE HERE"
   ]
  },
  {
   "attachments": {},
   "cell_type": "markdown",
   "metadata": {},
   "source": [
    "## Q1.5\n",
    "What is the price of a house with `id` == 263000018?"
   ]
  },
  {
   "cell_type": "code",
   "execution_count": 8,
   "metadata": {
    "ExecuteTime": {
     "end_time": "2020-09-24T16:54:11.438271Z",
     "start_time": "2020-09-24T16:54:11.431652Z"
    },
    "scrolled": true
   },
   "outputs": [
    {
     "name": "stdout",
     "output_type": "stream",
     "text": [
      "360000.0\n"
     ]
    }
   ],
   "source": [
    "#YOUR CODE HERE"
   ]
  },
  {
   "attachments": {},
   "cell_type": "markdown",
   "metadata": {},
   "source": [
    "## Q1.6\n",
    "How many observations (rows) are in the data?"
   ]
  },
  {
   "cell_type": "code",
   "execution_count": 9,
   "metadata": {
    "ExecuteTime": {
     "end_time": "2020-09-24T16:54:11.539260Z",
     "start_time": "2020-09-24T16:54:11.507827Z"
    }
   },
   "outputs": [
    {
     "name": "stdout",
     "output_type": "stream",
     "text": [
      "21613\n"
     ]
    }
   ],
   "source": [
    "#YOUR CODE HERE"
   ]
  },
  {
   "attachments": {},
   "cell_type": "markdown",
   "metadata": {},
   "source": [
    "## Q1.7\n",
    "How many columns are in the data?"
   ]
  },
  {
   "cell_type": "code",
   "execution_count": 10,
   "metadata": {
    "ExecuteTime": {
     "end_time": "2020-09-24T16:54:11.546947Z",
     "start_time": "2020-09-24T16:54:11.541418Z"
    }
   },
   "outputs": [
    {
     "name": "stdout",
     "output_type": "stream",
     "text": [
      "20\n"
     ]
    }
   ],
   "source": [
    "#YOUR CODE HERE"
   ]
  },
  {
   "attachments": {},
   "cell_type": "markdown",
   "metadata": {},
   "source": [
    "##  Q1.8 \n",
    "Print all the columns names"
   ]
  },
  {
   "cell_type": "code",
   "execution_count": 11,
   "metadata": {
    "ExecuteTime": {
     "end_time": "2020-09-24T16:54:11.474223Z",
     "start_time": "2020-09-24T16:54:11.468513Z"
    }
   },
   "outputs": [
    {
     "name": "stdout",
     "output_type": "stream",
     "text": [
      "Index(['date', 'price', 'bedrooms', 'bathrooms', 'sqft_living', 'sqft_lot',\n",
      "       'floors', 'waterfront', 'view', 'condition', 'grade', 'sqft_above',\n",
      "       'sqft_basement', 'yr_built', 'yr_renovated', 'zipcode', 'lat', 'long',\n",
      "       'sqft_living15', 'sqft_lot15'],\n",
      "      dtype='object')\n"
     ]
    }
   ],
   "source": [
    "#YOUR CODE HERE"
   ]
  },
  {
   "attachments": {},
   "cell_type": "markdown",
   "metadata": {},
   "source": [
    "# 2. Basic data exploration\n",
    "\n",
    "Methods to use:\n",
    "* `.count()` number of not NaN's in every column.\n",
    "* `.nunique()` Count number of unique values in every column . \n",
    "* `.unique()`  return unique values unique values in a column as list. \n",
    "* `.min()`, `.max()`, `.mean()`, `.std()` to display specific statistics about the data.\n",
    "* `.isnull()` return True if value is NaN (missing) and False if its not.\n"
   ]
  },
  {
   "attachments": {},
   "cell_type": "markdown",
   "metadata": {
    "ExecuteTime": {
     "end_time": "2020-09-24T16:54:11.605683Z",
     "start_time": "2020-09-24T16:54:11.600560Z"
    }
   },
   "source": [
    "## Q2.0 \n",
    "Count number of unique values in every column."
   ]
  },
  {
   "cell_type": "code",
   "execution_count": 12,
   "metadata": {
    "ExecuteTime": {
     "end_time": "2020-09-24T16:54:11.800114Z",
     "start_time": "2020-09-24T16:54:11.608474Z"
    }
   },
   "outputs": [
    {
     "data": {
      "text/plain": [
       "date              372\n",
       "price            4028\n",
       "bedrooms           13\n",
       "bathrooms          30\n",
       "sqft_living      1038\n",
       "sqft_lot         9782\n",
       "floors              6\n",
       "waterfront          2\n",
       "view                5\n",
       "condition           5\n",
       "grade              12\n",
       "sqft_above        946\n",
       "sqft_basement     306\n",
       "yr_built          116\n",
       "yr_renovated       70\n",
       "zipcode            70\n",
       "lat              5034\n",
       "long              752\n",
       "sqft_living15     777\n",
       "sqft_lot15       8689\n",
       "dtype: int64"
      ]
     },
     "execution_count": 12,
     "metadata": {},
     "output_type": "execute_result"
    }
   ],
   "source": [
    "#YOUR CODE HERE"
   ]
  },
  {
   "attachments": {},
   "cell_type": "markdown",
   "metadata": {},
   "source": [
    "## Q2.1 \n",
    "Display all the unique values in column `condition`."
   ]
  },
  {
   "cell_type": "code",
   "execution_count": 13,
   "metadata": {},
   "outputs": [
    {
     "data": {
      "text/plain": [
       "array([3, 5, 4, 1, 2])"
      ]
     },
     "execution_count": 13,
     "metadata": {},
     "output_type": "execute_result"
    }
   ],
   "source": [
    "#YOUR CODE HERE"
   ]
  },
  {
   "attachments": {},
   "cell_type": "markdown",
   "metadata": {},
   "source": [
    "## Q2.2\n",
    "How many unique values are in the `yr_renovated` column?"
   ]
  },
  {
   "cell_type": "code",
   "execution_count": 14,
   "metadata": {},
   "outputs": [
    {
     "name": "stdout",
     "output_type": "stream",
     "text": [
      "70\n"
     ]
    }
   ],
   "source": [
    "#YOUR CODE HERE"
   ]
  },
  {
   "attachments": {},
   "cell_type": "markdown",
   "metadata": {},
   "source": [
    "## Q2.3\n",
    "How many unique values are in the `long` column?"
   ]
  },
  {
   "cell_type": "code",
   "execution_count": 15,
   "metadata": {},
   "outputs": [
    {
     "name": "stdout",
     "output_type": "stream",
     "text": [
      "752\n"
     ]
    }
   ],
   "source": [
    "#YOUR CODE HERE"
   ]
  },
  {
   "attachments": {},
   "cell_type": "markdown",
   "metadata": {
    "ExecuteTime": {
     "end_time": "2020-09-24T16:54:11.552485Z",
     "start_time": "2020-09-24T16:54:11.549299Z"
    }
   },
   "source": [
    "## Q2.4\n",
    "Display number of NaN's in every column. \n",
    "\n",
    "**Hint:** combine `.isnull()` and `.sum()` methods."
   ]
  },
  {
   "cell_type": "code",
   "execution_count": 16,
   "metadata": {
    "ExecuteTime": {
     "end_time": "2020-09-24T16:54:11.565418Z",
     "start_time": "2020-09-24T16:54:11.555130Z"
    }
   },
   "outputs": [
    {
     "data": {
      "text/plain": [
       "date             0\n",
       "price            0\n",
       "bedrooms         0\n",
       "bathrooms        0\n",
       "sqft_living      0\n",
       "sqft_lot         0\n",
       "floors           0\n",
       "waterfront       0\n",
       "view             0\n",
       "condition        0\n",
       "grade            0\n",
       "sqft_above       0\n",
       "sqft_basement    0\n",
       "yr_built         0\n",
       "yr_renovated     0\n",
       "zipcode          0\n",
       "lat              0\n",
       "long             0\n",
       "sqft_living15    0\n",
       "sqft_lot15       0\n",
       "dtype: int64"
      ]
     },
     "execution_count": 16,
     "metadata": {},
     "output_type": "execute_result"
    }
   ],
   "source": [
    "#YOUR CODE HERE"
   ]
  },
  {
   "attachments": {},
   "cell_type": "markdown",
   "metadata": {},
   "source": [
    "# 3. Data selection\n",
    "\n",
    "In pandas.DataFrame you could select\n",
    "\n",
    "1. Row/s by position (integer number \\[0 .. number of rows - 1\\]) `.iloc` or by DataFrame.index `.loc`:\n",
    "```\n",
    "data.loc[0]\n",
    "data.loc[5:10]\n",
    "data.iloc[0]\n",
    "data.iloc[5:10]\n",
    "```\n",
    "*Though, this is probably the worst way to manipulate rows.*\n",
    "\n",
    "2. Columns by name\n",
    "```\n",
    "data[columname]\n",
    "```\n",
    "3. Row/s and columns\n",
    "```\n",
    "data.loc[10, columname]\n",
    "data.iloc[10, columname]\n",
    "```\n",
    "4. Using boolean mask\n",
    "```\n",
    "mask = data[columname] > value\n",
    "data[mask]\n",
    "```\n",
    "You could combine multiple conditions using `&` or `|` (and, or)\n",
    "\n",
    "```\n",
    "cond1 = data[columname1] > value1\n",
    "cond2 = data[columname2] > value2\n",
    "data[cond1 & cond2]\n",
    "```\n",
    "5. Using queries `.query()`:\n",
    "```\n",
    "value = 5\n",
    "data.query(\"columname > value\")\n",
    "```\n",
    "You could combine multiple conditions using `and`, `or`\n",
    "\n",
    "```\n",
    "data.query(\"(columname1 > value1) and (columname2 > value2)\")\n",
    "```\n",
    "and others. See https://pandas.pydata.org/pandas-docs/stable/user_guide/indexing.html for more examples.\n",
    "\n",
    "*Remember to use different quotation marks \" or ' for columnname inside a query.*"
   ]
  },
  {
   "attachments": {},
   "cell_type": "markdown",
   "metadata": {},
   "source": [
    "## Q3.0\n",
    "How many bathrooms have a house on row 314?\n"
   ]
  },
  {
   "cell_type": "code",
   "execution_count": 17,
   "metadata": {},
   "outputs": [
    {
     "data": {
      "text/plain": [
       "3.25"
      ]
     },
     "execution_count": 17,
     "metadata": {},
     "output_type": "execute_result"
    }
   ],
   "source": [
    "#YOUR CODE HERE"
   ]
  },
  {
   "attachments": {},
   "cell_type": "markdown",
   "metadata": {},
   "source": [
    "## Q3.1\n",
    "What is the grade of a house on row 2718?"
   ]
  },
  {
   "cell_type": "code",
   "execution_count": 18,
   "metadata": {},
   "outputs": [
    {
     "data": {
      "text/plain": [
       "7"
      ]
     },
     "execution_count": 18,
     "metadata": {},
     "output_type": "execute_result"
    }
   ],
   "source": [
    "#YOUR CODE HERE"
   ]
  },
  {
   "attachments": {},
   "cell_type": "markdown",
   "metadata": {},
   "source": [
    "## Q3.2\n",
    "How many times the house with index 1000102 were sold? Display all the rows."
   ]
  },
  {
   "cell_type": "code",
   "execution_count": 19,
   "metadata": {},
   "outputs": [
    {
     "data": {
      "text/html": [
       "<div>\n",
       "<style scoped>\n",
       "    .dataframe tbody tr th:only-of-type {\n",
       "        vertical-align: middle;\n",
       "    }\n",
       "\n",
       "    .dataframe tbody tr th {\n",
       "        vertical-align: top;\n",
       "    }\n",
       "\n",
       "    .dataframe thead th {\n",
       "        text-align: right;\n",
       "    }\n",
       "</style>\n",
       "<table border=\"1\" class=\"dataframe\">\n",
       "  <thead>\n",
       "    <tr style=\"text-align: right;\">\n",
       "      <th></th>\n",
       "      <th>date</th>\n",
       "      <th>price</th>\n",
       "      <th>bedrooms</th>\n",
       "      <th>bathrooms</th>\n",
       "      <th>sqft_living</th>\n",
       "      <th>sqft_lot</th>\n",
       "      <th>floors</th>\n",
       "      <th>waterfront</th>\n",
       "      <th>view</th>\n",
       "      <th>condition</th>\n",
       "      <th>grade</th>\n",
       "      <th>sqft_above</th>\n",
       "      <th>sqft_basement</th>\n",
       "      <th>yr_built</th>\n",
       "      <th>yr_renovated</th>\n",
       "      <th>zipcode</th>\n",
       "      <th>lat</th>\n",
       "      <th>long</th>\n",
       "      <th>sqft_living15</th>\n",
       "      <th>sqft_lot15</th>\n",
       "    </tr>\n",
       "    <tr>\n",
       "      <th>id</th>\n",
       "      <th></th>\n",
       "      <th></th>\n",
       "      <th></th>\n",
       "      <th></th>\n",
       "      <th></th>\n",
       "      <th></th>\n",
       "      <th></th>\n",
       "      <th></th>\n",
       "      <th></th>\n",
       "      <th></th>\n",
       "      <th></th>\n",
       "      <th></th>\n",
       "      <th></th>\n",
       "      <th></th>\n",
       "      <th></th>\n",
       "      <th></th>\n",
       "      <th></th>\n",
       "      <th></th>\n",
       "      <th></th>\n",
       "      <th></th>\n",
       "    </tr>\n",
       "  </thead>\n",
       "  <tbody>\n",
       "    <tr>\n",
       "      <th>1000102</th>\n",
       "      <td>20140916T000000</td>\n",
       "      <td>280000.0</td>\n",
       "      <td>6</td>\n",
       "      <td>3.0</td>\n",
       "      <td>2400</td>\n",
       "      <td>9373</td>\n",
       "      <td>2.0</td>\n",
       "      <td>0</td>\n",
       "      <td>0</td>\n",
       "      <td>3</td>\n",
       "      <td>7</td>\n",
       "      <td>2400</td>\n",
       "      <td>0</td>\n",
       "      <td>1991</td>\n",
       "      <td>0</td>\n",
       "      <td>98002</td>\n",
       "      <td>47.3262</td>\n",
       "      <td>-122.214</td>\n",
       "      <td>2060</td>\n",
       "      <td>7316</td>\n",
       "    </tr>\n",
       "    <tr>\n",
       "      <th>1000102</th>\n",
       "      <td>20150422T000000</td>\n",
       "      <td>300000.0</td>\n",
       "      <td>6</td>\n",
       "      <td>3.0</td>\n",
       "      <td>2400</td>\n",
       "      <td>9373</td>\n",
       "      <td>2.0</td>\n",
       "      <td>0</td>\n",
       "      <td>0</td>\n",
       "      <td>3</td>\n",
       "      <td>7</td>\n",
       "      <td>2400</td>\n",
       "      <td>0</td>\n",
       "      <td>1991</td>\n",
       "      <td>0</td>\n",
       "      <td>98002</td>\n",
       "      <td>47.3262</td>\n",
       "      <td>-122.214</td>\n",
       "      <td>2060</td>\n",
       "      <td>7316</td>\n",
       "    </tr>\n",
       "  </tbody>\n",
       "</table>\n",
       "</div>"
      ],
      "text/plain": [
       "                    date     price  bedrooms  bathrooms  sqft_living   \n",
       "id                                                                     \n",
       "1000102  20140916T000000  280000.0         6        3.0         2400  \\\n",
       "1000102  20150422T000000  300000.0         6        3.0         2400   \n",
       "\n",
       "         sqft_lot  floors  waterfront  view  condition  grade  sqft_above   \n",
       "id                                                                          \n",
       "1000102      9373     2.0           0     0          3      7        2400  \\\n",
       "1000102      9373     2.0           0     0          3      7        2400   \n",
       "\n",
       "         sqft_basement  yr_built  yr_renovated  zipcode      lat     long   \n",
       "id                                                                          \n",
       "1000102              0      1991             0    98002  47.3262 -122.214  \\\n",
       "1000102              0      1991             0    98002  47.3262 -122.214   \n",
       "\n",
       "         sqft_living15  sqft_lot15  \n",
       "id                                  \n",
       "1000102           2060        7316  \n",
       "1000102           2060        7316  "
      ]
     },
     "execution_count": 19,
     "metadata": {},
     "output_type": "execute_result"
    }
   ],
   "source": [
    "#YOUR CODE HERE"
   ]
  },
  {
   "attachments": {},
   "cell_type": "markdown",
   "metadata": {},
   "source": [
    "## Q3.3\n",
    "When was built the house with index 104510440?"
   ]
  },
  {
   "cell_type": "code",
   "execution_count": 20,
   "metadata": {},
   "outputs": [
    {
     "data": {
      "text/plain": [
       "1984"
      ]
     },
     "execution_count": 20,
     "metadata": {},
     "output_type": "execute_result"
    }
   ],
   "source": [
    "#YOUR CODE HERE"
   ]
  },
  {
   "attachments": {},
   "cell_type": "markdown",
   "metadata": {},
   "source": [
    "# 4. Columns statistics\n",
    "Methods to use:\n",
    "* `.value_counts()` to count number of unique values in a specific column.\n",
    "* `.describe()` to display basic statistic about the data.\n",
    "* `.dtypes` field to display data types in columns."
   ]
  },
  {
   "attachments": {},
   "cell_type": "markdown",
   "metadata": {},
   "source": [
    "## Q4.0\n",
    "For every unique `view` value give its number of occurences. Hint: first you need to select column `view` and then use `.value_counts()`"
   ]
  },
  {
   "cell_type": "code",
   "execution_count": 21,
   "metadata": {
    "ExecuteTime": {
     "end_time": "2020-09-24T16:54:11.845677Z",
     "start_time": "2020-09-24T16:54:11.838909Z"
    }
   },
   "outputs": [
    {
     "data": {
      "text/plain": [
       "view\n",
       "0    19489\n",
       "2      963\n",
       "3      510\n",
       "1      332\n",
       "4      319\n",
       "Name: count, dtype: int64"
      ]
     },
     "execution_count": 21,
     "metadata": {},
     "output_type": "execute_result"
    }
   ],
   "source": [
    "#YOUR CODE HERE"
   ]
  },
  {
   "attachments": {},
   "cell_type": "markdown",
   "metadata": {},
   "source": [
    "## Q4.1\n",
    "For every unique `condition` value give its number of occurences."
   ]
  },
  {
   "cell_type": "code",
   "execution_count": 22,
   "metadata": {
    "ExecuteTime": {
     "end_time": "2020-09-24T16:54:11.857214Z",
     "start_time": "2020-09-24T16:54:11.848005Z"
    }
   },
   "outputs": [
    {
     "data": {
      "text/plain": [
       "condition\n",
       "3    14031\n",
       "4     5679\n",
       "5     1701\n",
       "2      172\n",
       "1       30\n",
       "Name: count, dtype: int64"
      ]
     },
     "execution_count": 22,
     "metadata": {},
     "output_type": "execute_result"
    }
   ],
   "source": [
    "#YOUR CODE HERE"
   ]
  },
  {
   "attachments": {},
   "cell_type": "markdown",
   "metadata": {},
   "source": [
    "## Q4.2\n",
    "What are the max, min, mean and the std of the `bedrooms` column? \n",
    "\n",
    "**Hint:** try to combine `describe`, `.loc()` and single column selection."
   ]
  },
  {
   "cell_type": "code",
   "execution_count": 23,
   "metadata": {
    "ExecuteTime": {
     "end_time": "2020-09-24T16:54:11.977830Z",
     "start_time": "2020-09-24T16:54:11.968580Z"
    }
   },
   "outputs": [
    {
     "data": {
      "text/plain": [
       "max     33.000000\n",
       "min      0.000000\n",
       "mean     3.370842\n",
       "std      0.930062\n",
       "Name: bedrooms, dtype: float64"
      ]
     },
     "execution_count": 23,
     "metadata": {},
     "output_type": "execute_result"
    }
   ],
   "source": [
    "#YOUR CODE HERE"
   ]
  },
  {
   "attachments": {},
   "cell_type": "markdown",
   "metadata": {},
   "source": [
    "## Q4.3\n",
    "What are the `25%` (25th percentile), `50%` (50th percentile) and `max` value of the `sqft_living` column?"
   ]
  },
  {
   "cell_type": "code",
   "execution_count": 24,
   "metadata": {},
   "outputs": [
    {
     "data": {
      "text/plain": [
       "25%     1427.0\n",
       "50%     1910.0\n",
       "max    13540.0\n",
       "Name: sqft_living, dtype: float64"
      ]
     },
     "execution_count": 24,
     "metadata": {},
     "output_type": "execute_result"
    }
   ],
   "source": [
    "#YOUR CODE HERE"
   ]
  },
  {
   "attachments": {},
   "cell_type": "markdown",
   "metadata": {
    "ExecuteTime": {
     "end_time": "2020-09-24T16:54:12.006018Z",
     "start_time": "2020-09-24T16:54:11.999655Z"
    }
   },
   "source": [
    "## Q4.4 \n",
    "Display data types of all columns (int)"
   ]
  },
  {
   "cell_type": "code",
   "execution_count": 25,
   "metadata": {
    "ExecuteTime": {
     "end_time": "2020-09-24T16:54:12.021999Z",
     "start_time": "2020-09-24T16:54:12.012826Z"
    },
    "scrolled": true
   },
   "outputs": [
    {
     "data": {
      "text/plain": [
       "date              object\n",
       "price            float64\n",
       "bedrooms           int64\n",
       "bathrooms        float64\n",
       "sqft_living        int64\n",
       "sqft_lot           int64\n",
       "floors           float64\n",
       "waterfront         int64\n",
       "view               int64\n",
       "condition          int64\n",
       "grade              int64\n",
       "sqft_above         int64\n",
       "sqft_basement      int64\n",
       "yr_built           int64\n",
       "yr_renovated       int64\n",
       "zipcode            int64\n",
       "lat              float64\n",
       "long             float64\n",
       "sqft_living15      int64\n",
       "sqft_lot15         int64\n",
       "dtype: object"
      ]
     },
     "execution_count": 25,
     "metadata": {},
     "output_type": "execute_result"
    }
   ],
   "source": [
    "#YOUR CODE HERE"
   ]
  },
  {
   "attachments": {},
   "cell_type": "markdown",
   "metadata": {},
   "source": [
    "## Q4.5 \n",
    "What are the columns with dtype == `float64`? Display all of them."
   ]
  },
  {
   "cell_type": "code",
   "execution_count": 26,
   "metadata": {
    "ExecuteTime": {
     "end_time": "2020-09-24T16:54:12.085360Z",
     "start_time": "2020-09-24T16:54:12.074939Z"
    }
   },
   "outputs": [
    {
     "data": {
      "text/plain": [
       "price        float64\n",
       "bathrooms    float64\n",
       "floors       float64\n",
       "lat          float64\n",
       "long         float64\n",
       "dtype: object"
      ]
     },
     "execution_count": 26,
     "metadata": {},
     "output_type": "execute_result"
    }
   ],
   "source": [
    "#YOUR CODE HERE"
   ]
  },
  {
   "attachments": {},
   "cell_type": "markdown",
   "metadata": {},
   "source": [
    "# 5. Logical conditions"
   ]
  },
  {
   "attachments": {},
   "cell_type": "markdown",
   "metadata": {},
   "source": [
    "## Q5.0\n",
    "When was built (`yr_build`) the only house with basement area (`sqft_basement`) = 1024 sqft?"
   ]
  },
  {
   "cell_type": "code",
   "execution_count": 27,
   "metadata": {
    "ExecuteTime": {
     "end_time": "2020-09-24T16:54:12.214716Z",
     "start_time": "2020-09-24T16:54:12.208501Z"
    }
   },
   "outputs": [
    {
     "data": {
      "text/plain": [
       "id\n",
       "4136980090    2006\n",
       "Name: yr_built, dtype: int64"
      ]
     },
     "execution_count": 27,
     "metadata": {},
     "output_type": "execute_result"
    }
   ],
   "source": [
    "#YOUR CODE HERE"
   ]
  },
  {
   "attachments": {},
   "cell_type": "markdown",
   "metadata": {},
   "source": [
    "## Q5.1\n",
    "How many houses were sold (`price`) for 256000 dollars? Display all of them."
   ]
  },
  {
   "cell_type": "code",
   "execution_count": 28,
   "metadata": {
    "ExecuteTime": {
     "end_time": "2020-09-24T16:54:12.224950Z",
     "start_time": "2020-09-24T16:54:12.219132Z"
    }
   },
   "outputs": [
    {
     "data": {
      "text/html": [
       "<div>\n",
       "<style scoped>\n",
       "    .dataframe tbody tr th:only-of-type {\n",
       "        vertical-align: middle;\n",
       "    }\n",
       "\n",
       "    .dataframe tbody tr th {\n",
       "        vertical-align: top;\n",
       "    }\n",
       "\n",
       "    .dataframe thead th {\n",
       "        text-align: right;\n",
       "    }\n",
       "</style>\n",
       "<table border=\"1\" class=\"dataframe\">\n",
       "  <thead>\n",
       "    <tr style=\"text-align: right;\">\n",
       "      <th></th>\n",
       "      <th>date</th>\n",
       "      <th>price</th>\n",
       "      <th>bedrooms</th>\n",
       "      <th>bathrooms</th>\n",
       "      <th>sqft_living</th>\n",
       "      <th>sqft_lot</th>\n",
       "      <th>floors</th>\n",
       "      <th>waterfront</th>\n",
       "      <th>view</th>\n",
       "      <th>condition</th>\n",
       "      <th>grade</th>\n",
       "      <th>sqft_above</th>\n",
       "      <th>sqft_basement</th>\n",
       "      <th>yr_built</th>\n",
       "      <th>yr_renovated</th>\n",
       "      <th>zipcode</th>\n",
       "      <th>lat</th>\n",
       "      <th>long</th>\n",
       "      <th>sqft_living15</th>\n",
       "      <th>sqft_lot15</th>\n",
       "    </tr>\n",
       "    <tr>\n",
       "      <th>id</th>\n",
       "      <th></th>\n",
       "      <th></th>\n",
       "      <th></th>\n",
       "      <th></th>\n",
       "      <th></th>\n",
       "      <th></th>\n",
       "      <th></th>\n",
       "      <th></th>\n",
       "      <th></th>\n",
       "      <th></th>\n",
       "      <th></th>\n",
       "      <th></th>\n",
       "      <th></th>\n",
       "      <th></th>\n",
       "      <th></th>\n",
       "      <th></th>\n",
       "      <th></th>\n",
       "      <th></th>\n",
       "      <th></th>\n",
       "      <th></th>\n",
       "    </tr>\n",
       "  </thead>\n",
       "  <tbody>\n",
       "    <tr>\n",
       "      <th>7211400990</th>\n",
       "      <td>20150303T000000</td>\n",
       "      <td>256000.0</td>\n",
       "      <td>2</td>\n",
       "      <td>1.00</td>\n",
       "      <td>860</td>\n",
       "      <td>5000</td>\n",
       "      <td>1.0</td>\n",
       "      <td>0</td>\n",
       "      <td>0</td>\n",
       "      <td>3</td>\n",
       "      <td>6</td>\n",
       "      <td>860</td>\n",
       "      <td>0</td>\n",
       "      <td>1915</td>\n",
       "      <td>1945</td>\n",
       "      <td>98146</td>\n",
       "      <td>47.5133</td>\n",
       "      <td>-122.356</td>\n",
       "      <td>1220</td>\n",
       "      <td>5000</td>\n",
       "    </tr>\n",
       "    <tr>\n",
       "      <th>8100000090</th>\n",
       "      <td>20141111T000000</td>\n",
       "      <td>256000.0</td>\n",
       "      <td>3</td>\n",
       "      <td>2.50</td>\n",
       "      <td>1480</td>\n",
       "      <td>7200</td>\n",
       "      <td>2.0</td>\n",
       "      <td>0</td>\n",
       "      <td>0</td>\n",
       "      <td>5</td>\n",
       "      <td>7</td>\n",
       "      <td>1480</td>\n",
       "      <td>0</td>\n",
       "      <td>1995</td>\n",
       "      <td>0</td>\n",
       "      <td>98010</td>\n",
       "      <td>47.3126</td>\n",
       "      <td>-122.023</td>\n",
       "      <td>1350</td>\n",
       "      <td>7200</td>\n",
       "    </tr>\n",
       "    <tr>\n",
       "      <th>7224000315</th>\n",
       "      <td>20140723T000000</td>\n",
       "      <td>256000.0</td>\n",
       "      <td>3</td>\n",
       "      <td>1.00</td>\n",
       "      <td>880</td>\n",
       "      <td>5375</td>\n",
       "      <td>1.0</td>\n",
       "      <td>0</td>\n",
       "      <td>0</td>\n",
       "      <td>4</td>\n",
       "      <td>5</td>\n",
       "      <td>880</td>\n",
       "      <td>0</td>\n",
       "      <td>1924</td>\n",
       "      <td>0</td>\n",
       "      <td>98055</td>\n",
       "      <td>47.4858</td>\n",
       "      <td>-122.202</td>\n",
       "      <td>980</td>\n",
       "      <td>4838</td>\n",
       "    </tr>\n",
       "    <tr>\n",
       "      <th>9352901085</th>\n",
       "      <td>20150204T000000</td>\n",
       "      <td>256000.0</td>\n",
       "      <td>3</td>\n",
       "      <td>1.00</td>\n",
       "      <td>1290</td>\n",
       "      <td>4720</td>\n",
       "      <td>1.0</td>\n",
       "      <td>0</td>\n",
       "      <td>0</td>\n",
       "      <td>3</td>\n",
       "      <td>6</td>\n",
       "      <td>790</td>\n",
       "      <td>500</td>\n",
       "      <td>1948</td>\n",
       "      <td>0</td>\n",
       "      <td>98106</td>\n",
       "      <td>47.5186</td>\n",
       "      <td>-122.358</td>\n",
       "      <td>1110</td>\n",
       "      <td>4720</td>\n",
       "    </tr>\n",
       "    <tr>\n",
       "      <th>4058801230</th>\n",
       "      <td>20150305T000000</td>\n",
       "      <td>256000.0</td>\n",
       "      <td>4</td>\n",
       "      <td>1.75</td>\n",
       "      <td>1270</td>\n",
       "      <td>6825</td>\n",
       "      <td>1.0</td>\n",
       "      <td>0</td>\n",
       "      <td>2</td>\n",
       "      <td>3</td>\n",
       "      <td>7</td>\n",
       "      <td>1270</td>\n",
       "      <td>0</td>\n",
       "      <td>1950</td>\n",
       "      <td>0</td>\n",
       "      <td>98178</td>\n",
       "      <td>47.5051</td>\n",
       "      <td>-122.242</td>\n",
       "      <td>1800</td>\n",
       "      <td>6930</td>\n",
       "    </tr>\n",
       "    <tr>\n",
       "      <th>8001100030</th>\n",
       "      <td>20150102T000000</td>\n",
       "      <td>256000.0</td>\n",
       "      <td>3</td>\n",
       "      <td>2.50</td>\n",
       "      <td>1570</td>\n",
       "      <td>5113</td>\n",
       "      <td>1.0</td>\n",
       "      <td>0</td>\n",
       "      <td>0</td>\n",
       "      <td>3</td>\n",
       "      <td>7</td>\n",
       "      <td>1090</td>\n",
       "      <td>480</td>\n",
       "      <td>1996</td>\n",
       "      <td>0</td>\n",
       "      <td>98001</td>\n",
       "      <td>47.3327</td>\n",
       "      <td>-122.290</td>\n",
       "      <td>1570</td>\n",
       "      <td>5150</td>\n",
       "    </tr>\n",
       "    <tr>\n",
       "      <th>873900240</th>\n",
       "      <td>20140702T000000</td>\n",
       "      <td>256000.0</td>\n",
       "      <td>4</td>\n",
       "      <td>2.50</td>\n",
       "      <td>2050</td>\n",
       "      <td>5787</td>\n",
       "      <td>2.0</td>\n",
       "      <td>0</td>\n",
       "      <td>0</td>\n",
       "      <td>3</td>\n",
       "      <td>7</td>\n",
       "      <td>2050</td>\n",
       "      <td>0</td>\n",
       "      <td>2002</td>\n",
       "      <td>0</td>\n",
       "      <td>98198</td>\n",
       "      <td>47.3527</td>\n",
       "      <td>-122.315</td>\n",
       "      <td>2030</td>\n",
       "      <td>6615</td>\n",
       "    </tr>\n",
       "    <tr>\n",
       "      <th>603001045</th>\n",
       "      <td>20150429T000000</td>\n",
       "      <td>256000.0</td>\n",
       "      <td>3</td>\n",
       "      <td>1.00</td>\n",
       "      <td>950</td>\n",
       "      <td>4000</td>\n",
       "      <td>1.0</td>\n",
       "      <td>0</td>\n",
       "      <td>0</td>\n",
       "      <td>3</td>\n",
       "      <td>7</td>\n",
       "      <td>780</td>\n",
       "      <td>170</td>\n",
       "      <td>1949</td>\n",
       "      <td>0</td>\n",
       "      <td>98118</td>\n",
       "      <td>47.5232</td>\n",
       "      <td>-122.284</td>\n",
       "      <td>1230</td>\n",
       "      <td>4000</td>\n",
       "    </tr>\n",
       "  </tbody>\n",
       "</table>\n",
       "</div>"
      ],
      "text/plain": [
       "                       date     price  bedrooms  bathrooms  sqft_living   \n",
       "id                                                                        \n",
       "7211400990  20150303T000000  256000.0         2       1.00          860  \\\n",
       "8100000090  20141111T000000  256000.0         3       2.50         1480   \n",
       "7224000315  20140723T000000  256000.0         3       1.00          880   \n",
       "9352901085  20150204T000000  256000.0         3       1.00         1290   \n",
       "4058801230  20150305T000000  256000.0         4       1.75         1270   \n",
       "8001100030  20150102T000000  256000.0         3       2.50         1570   \n",
       "873900240   20140702T000000  256000.0         4       2.50         2050   \n",
       "603001045   20150429T000000  256000.0         3       1.00          950   \n",
       "\n",
       "            sqft_lot  floors  waterfront  view  condition  grade  sqft_above   \n",
       "id                                                                             \n",
       "7211400990      5000     1.0           0     0          3      6         860  \\\n",
       "8100000090      7200     2.0           0     0          5      7        1480   \n",
       "7224000315      5375     1.0           0     0          4      5         880   \n",
       "9352901085      4720     1.0           0     0          3      6         790   \n",
       "4058801230      6825     1.0           0     2          3      7        1270   \n",
       "8001100030      5113     1.0           0     0          3      7        1090   \n",
       "873900240       5787     2.0           0     0          3      7        2050   \n",
       "603001045       4000     1.0           0     0          3      7         780   \n",
       "\n",
       "            sqft_basement  yr_built  yr_renovated  zipcode      lat     long   \n",
       "id                                                                             \n",
       "7211400990              0      1915          1945    98146  47.5133 -122.356  \\\n",
       "8100000090              0      1995             0    98010  47.3126 -122.023   \n",
       "7224000315              0      1924             0    98055  47.4858 -122.202   \n",
       "9352901085            500      1948             0    98106  47.5186 -122.358   \n",
       "4058801230              0      1950             0    98178  47.5051 -122.242   \n",
       "8001100030            480      1996             0    98001  47.3327 -122.290   \n",
       "873900240               0      2002             0    98198  47.3527 -122.315   \n",
       "603001045             170      1949             0    98118  47.5232 -122.284   \n",
       "\n",
       "            sqft_living15  sqft_lot15  \n",
       "id                                     \n",
       "7211400990           1220        5000  \n",
       "8100000090           1350        7200  \n",
       "7224000315            980        4838  \n",
       "9352901085           1110        4720  \n",
       "4058801230           1800        6930  \n",
       "8001100030           1570        5150  \n",
       "873900240            2030        6615  \n",
       "603001045            1230        4000  "
      ]
     },
     "execution_count": 28,
     "metadata": {},
     "output_type": "execute_result"
    }
   ],
   "source": [
    "#YOUR CODE HERE"
   ]
  },
  {
   "attachments": {},
   "cell_type": "markdown",
   "metadata": {},
   "source": [
    "## Q5.2\n",
    "What was the price of a house with 5 `bathrooms`, built (`yr_built`) in 1998 and `grade` with 10 score?"
   ]
  },
  {
   "cell_type": "code",
   "execution_count": 29,
   "metadata": {
    "ExecuteTime": {
     "end_time": "2020-09-24T16:54:12.253577Z",
     "start_time": "2020-09-24T16:54:12.238839Z"
    }
   },
   "outputs": [
    {
     "data": {
      "text/plain": [
       "id\n",
       "2322069010    1180000.0\n",
       "Name: price, dtype: float64"
      ]
     },
     "execution_count": 29,
     "metadata": {},
     "output_type": "execute_result"
    }
   ],
   "source": [
    "#YOUR CODE HERE"
   ]
  },
  {
   "attachments": {},
   "cell_type": "markdown",
   "metadata": {},
   "source": [
    "## Q5.3\n",
    "Display all the houses with 6 `bedrooms` and less than 2000 `sqft_living` area."
   ]
  },
  {
   "cell_type": "code",
   "execution_count": 30,
   "metadata": {
    "ExecuteTime": {
     "end_time": "2020-09-24T16:54:12.271097Z",
     "start_time": "2020-09-24T16:54:12.259532Z"
    },
    "scrolled": true
   },
   "outputs": [
    {
     "data": {
      "text/html": [
       "<div>\n",
       "<style scoped>\n",
       "    .dataframe tbody tr th:only-of-type {\n",
       "        vertical-align: middle;\n",
       "    }\n",
       "\n",
       "    .dataframe tbody tr th {\n",
       "        vertical-align: top;\n",
       "    }\n",
       "\n",
       "    .dataframe thead th {\n",
       "        text-align: right;\n",
       "    }\n",
       "</style>\n",
       "<table border=\"1\" class=\"dataframe\">\n",
       "  <thead>\n",
       "    <tr style=\"text-align: right;\">\n",
       "      <th></th>\n",
       "      <th>date</th>\n",
       "      <th>price</th>\n",
       "      <th>bedrooms</th>\n",
       "      <th>bathrooms</th>\n",
       "      <th>sqft_living</th>\n",
       "      <th>sqft_lot</th>\n",
       "      <th>floors</th>\n",
       "      <th>waterfront</th>\n",
       "      <th>view</th>\n",
       "      <th>condition</th>\n",
       "      <th>grade</th>\n",
       "      <th>sqft_above</th>\n",
       "      <th>sqft_basement</th>\n",
       "      <th>yr_built</th>\n",
       "      <th>yr_renovated</th>\n",
       "      <th>zipcode</th>\n",
       "      <th>lat</th>\n",
       "      <th>long</th>\n",
       "      <th>sqft_living15</th>\n",
       "      <th>sqft_lot15</th>\n",
       "    </tr>\n",
       "    <tr>\n",
       "      <th>id</th>\n",
       "      <th></th>\n",
       "      <th></th>\n",
       "      <th></th>\n",
       "      <th></th>\n",
       "      <th></th>\n",
       "      <th></th>\n",
       "      <th></th>\n",
       "      <th></th>\n",
       "      <th></th>\n",
       "      <th></th>\n",
       "      <th></th>\n",
       "      <th></th>\n",
       "      <th></th>\n",
       "      <th></th>\n",
       "      <th></th>\n",
       "      <th></th>\n",
       "      <th></th>\n",
       "      <th></th>\n",
       "      <th></th>\n",
       "      <th></th>\n",
       "    </tr>\n",
       "  </thead>\n",
       "  <tbody>\n",
       "    <tr>\n",
       "      <th>6190701146</th>\n",
       "      <td>20150415T000000</td>\n",
       "      <td>520500.0</td>\n",
       "      <td>6</td>\n",
       "      <td>2.50</td>\n",
       "      <td>1880</td>\n",
       "      <td>14350</td>\n",
       "      <td>1.0</td>\n",
       "      <td>0</td>\n",
       "      <td>0</td>\n",
       "      <td>5</td>\n",
       "      <td>7</td>\n",
       "      <td>1640</td>\n",
       "      <td>240</td>\n",
       "      <td>1955</td>\n",
       "      <td>0</td>\n",
       "      <td>98133</td>\n",
       "      <td>47.7556</td>\n",
       "      <td>-122.352</td>\n",
       "      <td>1510</td>\n",
       "      <td>9840</td>\n",
       "    </tr>\n",
       "    <tr>\n",
       "      <th>2724069117</th>\n",
       "      <td>20141114T000000</td>\n",
       "      <td>380000.0</td>\n",
       "      <td>6</td>\n",
       "      <td>2.00</td>\n",
       "      <td>1870</td>\n",
       "      <td>6969</td>\n",
       "      <td>1.0</td>\n",
       "      <td>0</td>\n",
       "      <td>0</td>\n",
       "      <td>4</td>\n",
       "      <td>7</td>\n",
       "      <td>1870</td>\n",
       "      <td>0</td>\n",
       "      <td>1968</td>\n",
       "      <td>0</td>\n",
       "      <td>98027</td>\n",
       "      <td>47.5342</td>\n",
       "      <td>-122.036</td>\n",
       "      <td>1500</td>\n",
       "      <td>6969</td>\n",
       "    </tr>\n",
       "    <tr>\n",
       "      <th>9276202190</th>\n",
       "      <td>20140808T000000</td>\n",
       "      <td>545000.0</td>\n",
       "      <td>6</td>\n",
       "      <td>1.75</td>\n",
       "      <td>1820</td>\n",
       "      <td>6250</td>\n",
       "      <td>1.0</td>\n",
       "      <td>0</td>\n",
       "      <td>0</td>\n",
       "      <td>3</td>\n",
       "      <td>7</td>\n",
       "      <td>1130</td>\n",
       "      <td>690</td>\n",
       "      <td>1954</td>\n",
       "      <td>0</td>\n",
       "      <td>98116</td>\n",
       "      <td>47.5790</td>\n",
       "      <td>-122.390</td>\n",
       "      <td>1820</td>\n",
       "      <td>5750</td>\n",
       "    </tr>\n",
       "    <tr>\n",
       "      <th>1823049202</th>\n",
       "      <td>20140610T000000</td>\n",
       "      <td>175000.0</td>\n",
       "      <td>6</td>\n",
       "      <td>1.50</td>\n",
       "      <td>1930</td>\n",
       "      <td>8400</td>\n",
       "      <td>1.0</td>\n",
       "      <td>0</td>\n",
       "      <td>0</td>\n",
       "      <td>3</td>\n",
       "      <td>7</td>\n",
       "      <td>1030</td>\n",
       "      <td>900</td>\n",
       "      <td>1971</td>\n",
       "      <td>0</td>\n",
       "      <td>98146</td>\n",
       "      <td>47.4869</td>\n",
       "      <td>-122.340</td>\n",
       "      <td>1780</td>\n",
       "      <td>9520</td>\n",
       "    </tr>\n",
       "    <tr>\n",
       "      <th>1823049202</th>\n",
       "      <td>20150107T000000</td>\n",
       "      <td>326000.0</td>\n",
       "      <td>6</td>\n",
       "      <td>1.50</td>\n",
       "      <td>1930</td>\n",
       "      <td>8400</td>\n",
       "      <td>1.0</td>\n",
       "      <td>0</td>\n",
       "      <td>0</td>\n",
       "      <td>3</td>\n",
       "      <td>7</td>\n",
       "      <td>1030</td>\n",
       "      <td>900</td>\n",
       "      <td>1971</td>\n",
       "      <td>0</td>\n",
       "      <td>98146</td>\n",
       "      <td>47.4869</td>\n",
       "      <td>-122.340</td>\n",
       "      <td>1780</td>\n",
       "      <td>9520</td>\n",
       "    </tr>\n",
       "    <tr>\n",
       "      <th>809000945</th>\n",
       "      <td>20150106T000000</td>\n",
       "      <td>563000.0</td>\n",
       "      <td>6</td>\n",
       "      <td>1.00</td>\n",
       "      <td>1730</td>\n",
       "      <td>2760</td>\n",
       "      <td>1.5</td>\n",
       "      <td>0</td>\n",
       "      <td>0</td>\n",
       "      <td>3</td>\n",
       "      <td>7</td>\n",
       "      <td>1250</td>\n",
       "      <td>480</td>\n",
       "      <td>1918</td>\n",
       "      <td>0</td>\n",
       "      <td>98109</td>\n",
       "      <td>47.6342</td>\n",
       "      <td>-122.353</td>\n",
       "      <td>1630</td>\n",
       "      <td>3200</td>\n",
       "    </tr>\n",
       "    <tr>\n",
       "      <th>7227800110</th>\n",
       "      <td>20150409T000000</td>\n",
       "      <td>315000.0</td>\n",
       "      <td>6</td>\n",
       "      <td>2.00</td>\n",
       "      <td>1750</td>\n",
       "      <td>17685</td>\n",
       "      <td>1.0</td>\n",
       "      <td>0</td>\n",
       "      <td>0</td>\n",
       "      <td>4</td>\n",
       "      <td>5</td>\n",
       "      <td>1750</td>\n",
       "      <td>0</td>\n",
       "      <td>1943</td>\n",
       "      <td>0</td>\n",
       "      <td>98056</td>\n",
       "      <td>47.5096</td>\n",
       "      <td>-122.178</td>\n",
       "      <td>1750</td>\n",
       "      <td>9209</td>\n",
       "    </tr>\n",
       "    <tr>\n",
       "      <th>1443500305</th>\n",
       "      <td>20141013T000000</td>\n",
       "      <td>194990.0</td>\n",
       "      <td>6</td>\n",
       "      <td>2.50</td>\n",
       "      <td>1560</td>\n",
       "      <td>7144</td>\n",
       "      <td>1.0</td>\n",
       "      <td>0</td>\n",
       "      <td>0</td>\n",
       "      <td>3</td>\n",
       "      <td>6</td>\n",
       "      <td>1060</td>\n",
       "      <td>500</td>\n",
       "      <td>1913</td>\n",
       "      <td>0</td>\n",
       "      <td>98118</td>\n",
       "      <td>47.5335</td>\n",
       "      <td>-122.272</td>\n",
       "      <td>1300</td>\n",
       "      <td>6232</td>\n",
       "    </tr>\n",
       "    <tr>\n",
       "      <th>862000020</th>\n",
       "      <td>20150206T000000</td>\n",
       "      <td>800000.0</td>\n",
       "      <td>6</td>\n",
       "      <td>1.00</td>\n",
       "      <td>1430</td>\n",
       "      <td>20620</td>\n",
       "      <td>2.0</td>\n",
       "      <td>0</td>\n",
       "      <td>0</td>\n",
       "      <td>3</td>\n",
       "      <td>7</td>\n",
       "      <td>1430</td>\n",
       "      <td>0</td>\n",
       "      <td>1954</td>\n",
       "      <td>0</td>\n",
       "      <td>98004</td>\n",
       "      <td>47.6255</td>\n",
       "      <td>-122.209</td>\n",
       "      <td>2450</td>\n",
       "      <td>10080</td>\n",
       "    </tr>\n",
       "    <tr>\n",
       "      <th>3885808035</th>\n",
       "      <td>20150316T000000</td>\n",
       "      <td>619500.0</td>\n",
       "      <td>6</td>\n",
       "      <td>1.50</td>\n",
       "      <td>1680</td>\n",
       "      <td>5202</td>\n",
       "      <td>1.5</td>\n",
       "      <td>0</td>\n",
       "      <td>0</td>\n",
       "      <td>2</td>\n",
       "      <td>7</td>\n",
       "      <td>1680</td>\n",
       "      <td>0</td>\n",
       "      <td>1911</td>\n",
       "      <td>0</td>\n",
       "      <td>98033</td>\n",
       "      <td>47.6798</td>\n",
       "      <td>-122.206</td>\n",
       "      <td>1890</td>\n",
       "      <td>5500</td>\n",
       "    </tr>\n",
       "    <tr>\n",
       "      <th>2568300045</th>\n",
       "      <td>20140625T000000</td>\n",
       "      <td>305000.0</td>\n",
       "      <td>6</td>\n",
       "      <td>2.00</td>\n",
       "      <td>1900</td>\n",
       "      <td>8240</td>\n",
       "      <td>1.0</td>\n",
       "      <td>0</td>\n",
       "      <td>0</td>\n",
       "      <td>2</td>\n",
       "      <td>7</td>\n",
       "      <td>1200</td>\n",
       "      <td>700</td>\n",
       "      <td>1964</td>\n",
       "      <td>0</td>\n",
       "      <td>98125</td>\n",
       "      <td>47.7037</td>\n",
       "      <td>-122.296</td>\n",
       "      <td>1900</td>\n",
       "      <td>8240</td>\n",
       "    </tr>\n",
       "    <tr>\n",
       "      <th>2568300045</th>\n",
       "      <td>20150319T000000</td>\n",
       "      <td>649950.0</td>\n",
       "      <td>6</td>\n",
       "      <td>2.00</td>\n",
       "      <td>1900</td>\n",
       "      <td>8240</td>\n",
       "      <td>1.0</td>\n",
       "      <td>0</td>\n",
       "      <td>0</td>\n",
       "      <td>2</td>\n",
       "      <td>7</td>\n",
       "      <td>1200</td>\n",
       "      <td>700</td>\n",
       "      <td>1964</td>\n",
       "      <td>0</td>\n",
       "      <td>98125</td>\n",
       "      <td>47.7037</td>\n",
       "      <td>-122.296</td>\n",
       "      <td>1900</td>\n",
       "      <td>8240</td>\n",
       "    </tr>\n",
       "    <tr>\n",
       "      <th>2224700045</th>\n",
       "      <td>20140804T000000</td>\n",
       "      <td>375000.0</td>\n",
       "      <td>6</td>\n",
       "      <td>2.00</td>\n",
       "      <td>1900</td>\n",
       "      <td>8057</td>\n",
       "      <td>1.0</td>\n",
       "      <td>0</td>\n",
       "      <td>0</td>\n",
       "      <td>4</td>\n",
       "      <td>7</td>\n",
       "      <td>1170</td>\n",
       "      <td>730</td>\n",
       "      <td>1959</td>\n",
       "      <td>0</td>\n",
       "      <td>98133</td>\n",
       "      <td>47.7620</td>\n",
       "      <td>-122.335</td>\n",
       "      <td>2090</td>\n",
       "      <td>8626</td>\n",
       "    </tr>\n",
       "    <tr>\n",
       "      <th>823059185</th>\n",
       "      <td>20140520T000000</td>\n",
       "      <td>326000.0</td>\n",
       "      <td>6</td>\n",
       "      <td>3.00</td>\n",
       "      <td>1880</td>\n",
       "      <td>7200</td>\n",
       "      <td>1.0</td>\n",
       "      <td>0</td>\n",
       "      <td>0</td>\n",
       "      <td>4</td>\n",
       "      <td>7</td>\n",
       "      <td>1880</td>\n",
       "      <td>0</td>\n",
       "      <td>1966</td>\n",
       "      <td>0</td>\n",
       "      <td>98056</td>\n",
       "      <td>47.5029</td>\n",
       "      <td>-122.188</td>\n",
       "      <td>1540</td>\n",
       "      <td>13022</td>\n",
       "    </tr>\n",
       "    <tr>\n",
       "      <th>7942602080</th>\n",
       "      <td>20140616T000000</td>\n",
       "      <td>660000.0</td>\n",
       "      <td>6</td>\n",
       "      <td>1.75</td>\n",
       "      <td>1840</td>\n",
       "      <td>2774</td>\n",
       "      <td>1.0</td>\n",
       "      <td>0</td>\n",
       "      <td>0</td>\n",
       "      <td>3</td>\n",
       "      <td>7</td>\n",
       "      <td>1060</td>\n",
       "      <td>780</td>\n",
       "      <td>1900</td>\n",
       "      <td>0</td>\n",
       "      <td>98122</td>\n",
       "      <td>47.6041</td>\n",
       "      <td>-122.310</td>\n",
       "      <td>1680</td>\n",
       "      <td>4292</td>\n",
       "    </tr>\n",
       "    <tr>\n",
       "      <th>5132000140</th>\n",
       "      <td>20140618T000000</td>\n",
       "      <td>175000.0</td>\n",
       "      <td>6</td>\n",
       "      <td>1.00</td>\n",
       "      <td>1370</td>\n",
       "      <td>5080</td>\n",
       "      <td>1.5</td>\n",
       "      <td>0</td>\n",
       "      <td>0</td>\n",
       "      <td>3</td>\n",
       "      <td>6</td>\n",
       "      <td>1120</td>\n",
       "      <td>250</td>\n",
       "      <td>1931</td>\n",
       "      <td>0</td>\n",
       "      <td>98106</td>\n",
       "      <td>47.5238</td>\n",
       "      <td>-122.350</td>\n",
       "      <td>1020</td>\n",
       "      <td>5080</td>\n",
       "    </tr>\n",
       "    <tr>\n",
       "      <th>5132000140</th>\n",
       "      <td>20150120T000000</td>\n",
       "      <td>415000.0</td>\n",
       "      <td>6</td>\n",
       "      <td>1.00</td>\n",
       "      <td>1370</td>\n",
       "      <td>5080</td>\n",
       "      <td>1.5</td>\n",
       "      <td>0</td>\n",
       "      <td>0</td>\n",
       "      <td>3</td>\n",
       "      <td>6</td>\n",
       "      <td>1120</td>\n",
       "      <td>250</td>\n",
       "      <td>1931</td>\n",
       "      <td>0</td>\n",
       "      <td>98106</td>\n",
       "      <td>47.5238</td>\n",
       "      <td>-122.350</td>\n",
       "      <td>1020</td>\n",
       "      <td>5080</td>\n",
       "    </tr>\n",
       "    <tr>\n",
       "      <th>6746701090</th>\n",
       "      <td>20140619T000000</td>\n",
       "      <td>680000.0</td>\n",
       "      <td>6</td>\n",
       "      <td>2.00</td>\n",
       "      <td>1670</td>\n",
       "      <td>3000</td>\n",
       "      <td>1.0</td>\n",
       "      <td>0</td>\n",
       "      <td>0</td>\n",
       "      <td>5</td>\n",
       "      <td>7</td>\n",
       "      <td>900</td>\n",
       "      <td>770</td>\n",
       "      <td>1911</td>\n",
       "      <td>0</td>\n",
       "      <td>98105</td>\n",
       "      <td>47.6637</td>\n",
       "      <td>-122.316</td>\n",
       "      <td>1330</td>\n",
       "      <td>1099</td>\n",
       "    </tr>\n",
       "    <tr>\n",
       "      <th>7224000450</th>\n",
       "      <td>20141230T000000</td>\n",
       "      <td>230000.0</td>\n",
       "      <td>6</td>\n",
       "      <td>1.50</td>\n",
       "      <td>1810</td>\n",
       "      <td>4838</td>\n",
       "      <td>1.5</td>\n",
       "      <td>0</td>\n",
       "      <td>0</td>\n",
       "      <td>4</td>\n",
       "      <td>5</td>\n",
       "      <td>1050</td>\n",
       "      <td>760</td>\n",
       "      <td>1905</td>\n",
       "      <td>0</td>\n",
       "      <td>98055</td>\n",
       "      <td>47.4874</td>\n",
       "      <td>-122.202</td>\n",
       "      <td>1300</td>\n",
       "      <td>4838</td>\n",
       "    </tr>\n",
       "    <tr>\n",
       "      <th>2887703155</th>\n",
       "      <td>20150225T000000</td>\n",
       "      <td>642000.0</td>\n",
       "      <td>6</td>\n",
       "      <td>1.00</td>\n",
       "      <td>1530</td>\n",
       "      <td>4305</td>\n",
       "      <td>1.5</td>\n",
       "      <td>0</td>\n",
       "      <td>0</td>\n",
       "      <td>4</td>\n",
       "      <td>7</td>\n",
       "      <td>1530</td>\n",
       "      <td>0</td>\n",
       "      <td>1921</td>\n",
       "      <td>0</td>\n",
       "      <td>98115</td>\n",
       "      <td>47.6862</td>\n",
       "      <td>-122.310</td>\n",
       "      <td>1530</td>\n",
       "      <td>3800</td>\n",
       "    </tr>\n",
       "  </tbody>\n",
       "</table>\n",
       "</div>"
      ],
      "text/plain": [
       "                       date     price  bedrooms  bathrooms  sqft_living   \n",
       "id                                                                        \n",
       "6190701146  20150415T000000  520500.0         6       2.50         1880  \\\n",
       "2724069117  20141114T000000  380000.0         6       2.00         1870   \n",
       "9276202190  20140808T000000  545000.0         6       1.75         1820   \n",
       "1823049202  20140610T000000  175000.0         6       1.50         1930   \n",
       "1823049202  20150107T000000  326000.0         6       1.50         1930   \n",
       "809000945   20150106T000000  563000.0         6       1.00         1730   \n",
       "7227800110  20150409T000000  315000.0         6       2.00         1750   \n",
       "1443500305  20141013T000000  194990.0         6       2.50         1560   \n",
       "862000020   20150206T000000  800000.0         6       1.00         1430   \n",
       "3885808035  20150316T000000  619500.0         6       1.50         1680   \n",
       "2568300045  20140625T000000  305000.0         6       2.00         1900   \n",
       "2568300045  20150319T000000  649950.0         6       2.00         1900   \n",
       "2224700045  20140804T000000  375000.0         6       2.00         1900   \n",
       "823059185   20140520T000000  326000.0         6       3.00         1880   \n",
       "7942602080  20140616T000000  660000.0         6       1.75         1840   \n",
       "5132000140  20140618T000000  175000.0         6       1.00         1370   \n",
       "5132000140  20150120T000000  415000.0         6       1.00         1370   \n",
       "6746701090  20140619T000000  680000.0         6       2.00         1670   \n",
       "7224000450  20141230T000000  230000.0         6       1.50         1810   \n",
       "2887703155  20150225T000000  642000.0         6       1.00         1530   \n",
       "\n",
       "            sqft_lot  floors  waterfront  view  condition  grade  sqft_above   \n",
       "id                                                                             \n",
       "6190701146     14350     1.0           0     0          5      7        1640  \\\n",
       "2724069117      6969     1.0           0     0          4      7        1870   \n",
       "9276202190      6250     1.0           0     0          3      7        1130   \n",
       "1823049202      8400     1.0           0     0          3      7        1030   \n",
       "1823049202      8400     1.0           0     0          3      7        1030   \n",
       "809000945       2760     1.5           0     0          3      7        1250   \n",
       "7227800110     17685     1.0           0     0          4      5        1750   \n",
       "1443500305      7144     1.0           0     0          3      6        1060   \n",
       "862000020      20620     2.0           0     0          3      7        1430   \n",
       "3885808035      5202     1.5           0     0          2      7        1680   \n",
       "2568300045      8240     1.0           0     0          2      7        1200   \n",
       "2568300045      8240     1.0           0     0          2      7        1200   \n",
       "2224700045      8057     1.0           0     0          4      7        1170   \n",
       "823059185       7200     1.0           0     0          4      7        1880   \n",
       "7942602080      2774     1.0           0     0          3      7        1060   \n",
       "5132000140      5080     1.5           0     0          3      6        1120   \n",
       "5132000140      5080     1.5           0     0          3      6        1120   \n",
       "6746701090      3000     1.0           0     0          5      7         900   \n",
       "7224000450      4838     1.5           0     0          4      5        1050   \n",
       "2887703155      4305     1.5           0     0          4      7        1530   \n",
       "\n",
       "            sqft_basement  yr_built  yr_renovated  zipcode      lat     long   \n",
       "id                                                                             \n",
       "6190701146            240      1955             0    98133  47.7556 -122.352  \\\n",
       "2724069117              0      1968             0    98027  47.5342 -122.036   \n",
       "9276202190            690      1954             0    98116  47.5790 -122.390   \n",
       "1823049202            900      1971             0    98146  47.4869 -122.340   \n",
       "1823049202            900      1971             0    98146  47.4869 -122.340   \n",
       "809000945             480      1918             0    98109  47.6342 -122.353   \n",
       "7227800110              0      1943             0    98056  47.5096 -122.178   \n",
       "1443500305            500      1913             0    98118  47.5335 -122.272   \n",
       "862000020               0      1954             0    98004  47.6255 -122.209   \n",
       "3885808035              0      1911             0    98033  47.6798 -122.206   \n",
       "2568300045            700      1964             0    98125  47.7037 -122.296   \n",
       "2568300045            700      1964             0    98125  47.7037 -122.296   \n",
       "2224700045            730      1959             0    98133  47.7620 -122.335   \n",
       "823059185               0      1966             0    98056  47.5029 -122.188   \n",
       "7942602080            780      1900             0    98122  47.6041 -122.310   \n",
       "5132000140            250      1931             0    98106  47.5238 -122.350   \n",
       "5132000140            250      1931             0    98106  47.5238 -122.350   \n",
       "6746701090            770      1911             0    98105  47.6637 -122.316   \n",
       "7224000450            760      1905             0    98055  47.4874 -122.202   \n",
       "2887703155              0      1921             0    98115  47.6862 -122.310   \n",
       "\n",
       "            sqft_living15  sqft_lot15  \n",
       "id                                     \n",
       "6190701146           1510        9840  \n",
       "2724069117           1500        6969  \n",
       "9276202190           1820        5750  \n",
       "1823049202           1780        9520  \n",
       "1823049202           1780        9520  \n",
       "809000945            1630        3200  \n",
       "7227800110           1750        9209  \n",
       "1443500305           1300        6232  \n",
       "862000020            2450       10080  \n",
       "3885808035           1890        5500  \n",
       "2568300045           1900        8240  \n",
       "2568300045           1900        8240  \n",
       "2224700045           2090        8626  \n",
       "823059185            1540       13022  \n",
       "7942602080           1680        4292  \n",
       "5132000140           1020        5080  \n",
       "5132000140           1020        5080  \n",
       "6746701090           1330        1099  \n",
       "7224000450           1300        4838  \n",
       "2887703155           1530        3800  "
      ]
     },
     "execution_count": 30,
     "metadata": {},
     "output_type": "execute_result"
    }
   ],
   "source": [
    "#YOUR CODE HERE"
   ]
  },
  {
   "attachments": {},
   "cell_type": "markdown",
   "metadata": {},
   "source": [
    "## Q5.4\n",
    "What is the mean number of `bathrooms` in houses with `grade` above 9 (10 and more)?"
   ]
  },
  {
   "cell_type": "code",
   "execution_count": 31,
   "metadata": {
    "ExecuteTime": {
     "end_time": "2020-09-24T16:54:12.291063Z",
     "start_time": "2020-09-24T16:54:12.282407Z"
    }
   },
   "outputs": [
    {
     "data": {
      "text/plain": [
       "3.197432762836186"
      ]
     },
     "execution_count": 31,
     "metadata": {},
     "output_type": "execute_result"
    }
   ],
   "source": [
    "#YOUR CODE HERE"
   ]
  },
  {
   "attachments": {},
   "cell_type": "markdown",
   "metadata": {},
   "source": [
    "## Q5.5\n",
    "What was the `price` of the least expensive house sold, built (`yr_built`) between 1991 and 2000?"
   ]
  },
  {
   "cell_type": "code",
   "execution_count": 32,
   "metadata": {
    "ExecuteTime": {
     "end_time": "2020-09-24T16:54:12.304506Z",
     "start_time": "2020-09-24T16:54:12.294887Z"
    }
   },
   "outputs": [
    {
     "data": {
      "text/plain": [
       "154000.0"
      ]
     },
     "execution_count": 32,
     "metadata": {},
     "output_type": "execute_result"
    }
   ],
   "source": [
    "#YOUR CODE HERE"
   ]
  },
  {
   "attachments": {},
   "cell_type": "markdown",
   "metadata": {},
   "source": [
    "# 6. Creating new columns\n",
    "\n",
    "\n",
    "Creating new column of pandas.DataFrame is as easy as:\n",
    "```\n",
    "data['new_awesome_column'] = [] \n",
    "```\n",
    "that's it. But such a column is relatively useless. \n",
    "Typically, you would compute something new based on existing data and save it in a new column. \n",
    "For example one might want to compute total area of the house as a sum of all `sqft_` columns, or\n",
    "create a boolean column of whether the house has `grade` > 2 or anything else:\n",
    "\n",
    "```\n",
    "data['total_area'] = data[col1] + data[col2] + ...\n",
    "data['high_value'] = data[col] > 5\n",
    "```"
   ]
  },
  {
   "attachments": {},
   "cell_type": "markdown",
   "metadata": {},
   "source": [
    "## Q6.0\n",
    "Create a sqft_tot_area column (sum of all columns with sqft_ prefix) using any method above. \n",
    "You should sum: \n",
    "* `sqft_living`\n",
    "* `sqft_lot`\n",
    "* `sqft_above`\n",
    "* `sqft_basement`\n",
    "* `sqft_living15`\n",
    "* `sqft_lot15`\n",
    "\n",
    "Display all of then  (6 old columns and 1 newly created)."
   ]
  },
  {
   "cell_type": "code",
   "execution_count": 33,
   "metadata": {},
   "outputs": [
    {
     "data": {
      "text/html": [
       "<div>\n",
       "<style scoped>\n",
       "    .dataframe tbody tr th:only-of-type {\n",
       "        vertical-align: middle;\n",
       "    }\n",
       "\n",
       "    .dataframe tbody tr th {\n",
       "        vertical-align: top;\n",
       "    }\n",
       "\n",
       "    .dataframe thead th {\n",
       "        text-align: right;\n",
       "    }\n",
       "</style>\n",
       "<table border=\"1\" class=\"dataframe\">\n",
       "  <thead>\n",
       "    <tr style=\"text-align: right;\">\n",
       "      <th></th>\n",
       "      <th>sqft_living</th>\n",
       "      <th>sqft_lot</th>\n",
       "      <th>sqft_above</th>\n",
       "      <th>sqft_basement</th>\n",
       "      <th>sqft_living15</th>\n",
       "      <th>sqft_lot15</th>\n",
       "      <th>sqft_tot_area</th>\n",
       "    </tr>\n",
       "    <tr>\n",
       "      <th>id</th>\n",
       "      <th></th>\n",
       "      <th></th>\n",
       "      <th></th>\n",
       "      <th></th>\n",
       "      <th></th>\n",
       "      <th></th>\n",
       "      <th></th>\n",
       "    </tr>\n",
       "  </thead>\n",
       "  <tbody>\n",
       "    <tr>\n",
       "      <th>7129300520</th>\n",
       "      <td>1180</td>\n",
       "      <td>5650</td>\n",
       "      <td>1180</td>\n",
       "      <td>0</td>\n",
       "      <td>1340</td>\n",
       "      <td>5650</td>\n",
       "      <td>15000</td>\n",
       "    </tr>\n",
       "    <tr>\n",
       "      <th>6414100192</th>\n",
       "      <td>2570</td>\n",
       "      <td>7242</td>\n",
       "      <td>2170</td>\n",
       "      <td>400</td>\n",
       "      <td>1690</td>\n",
       "      <td>7639</td>\n",
       "      <td>21711</td>\n",
       "    </tr>\n",
       "    <tr>\n",
       "      <th>5631500400</th>\n",
       "      <td>770</td>\n",
       "      <td>10000</td>\n",
       "      <td>770</td>\n",
       "      <td>0</td>\n",
       "      <td>2720</td>\n",
       "      <td>8062</td>\n",
       "      <td>22322</td>\n",
       "    </tr>\n",
       "    <tr>\n",
       "      <th>2487200875</th>\n",
       "      <td>1960</td>\n",
       "      <td>5000</td>\n",
       "      <td>1050</td>\n",
       "      <td>910</td>\n",
       "      <td>1360</td>\n",
       "      <td>5000</td>\n",
       "      <td>15280</td>\n",
       "    </tr>\n",
       "    <tr>\n",
       "      <th>1954400510</th>\n",
       "      <td>1680</td>\n",
       "      <td>8080</td>\n",
       "      <td>1680</td>\n",
       "      <td>0</td>\n",
       "      <td>1800</td>\n",
       "      <td>7503</td>\n",
       "      <td>20743</td>\n",
       "    </tr>\n",
       "  </tbody>\n",
       "</table>\n",
       "</div>"
      ],
      "text/plain": [
       "            sqft_living  sqft_lot  sqft_above  sqft_basement  sqft_living15   \n",
       "id                                                                            \n",
       "7129300520         1180      5650        1180              0           1340  \\\n",
       "6414100192         2570      7242        2170            400           1690   \n",
       "5631500400          770     10000         770              0           2720   \n",
       "2487200875         1960      5000        1050            910           1360   \n",
       "1954400510         1680      8080        1680              0           1800   \n",
       "\n",
       "            sqft_lot15  sqft_tot_area  \n",
       "id                                     \n",
       "7129300520        5650          15000  \n",
       "6414100192        7639          21711  \n",
       "5631500400        8062          22322  \n",
       "2487200875        5000          15280  \n",
       "1954400510        7503          20743  "
      ]
     },
     "execution_count": 33,
     "metadata": {},
     "output_type": "execute_result"
    }
   ],
   "source": [
    "#YOUR CODE HERE"
   ]
  },
  {
   "attachments": {},
   "cell_type": "markdown",
   "metadata": {},
   "source": [
    "## Q6.1\n",
    "Create a new column `sqm_tot_area` using `sqft_tot_area` and the fact that 1 foot = 0.3048 meters. \n",
    "\n",
    "Display first 5 values for `sqft_tot_area`, and `sqm_tot_area` columns."
   ]
  },
  {
   "cell_type": "code",
   "execution_count": 34,
   "metadata": {
    "ExecuteTime": {
     "end_time": "2020-09-24T16:54:12.540487Z",
     "start_time": "2020-09-24T16:54:12.522640Z"
    }
   },
   "outputs": [
    {
     "data": {
      "text/html": [
       "<div>\n",
       "<style scoped>\n",
       "    .dataframe tbody tr th:only-of-type {\n",
       "        vertical-align: middle;\n",
       "    }\n",
       "\n",
       "    .dataframe tbody tr th {\n",
       "        vertical-align: top;\n",
       "    }\n",
       "\n",
       "    .dataframe thead th {\n",
       "        text-align: right;\n",
       "    }\n",
       "</style>\n",
       "<table border=\"1\" class=\"dataframe\">\n",
       "  <thead>\n",
       "    <tr style=\"text-align: right;\">\n",
       "      <th></th>\n",
       "      <th>sqft_tot_area</th>\n",
       "      <th>sqm_tot_area</th>\n",
       "    </tr>\n",
       "    <tr>\n",
       "      <th>id</th>\n",
       "      <th></th>\n",
       "      <th></th>\n",
       "    </tr>\n",
       "  </thead>\n",
       "  <tbody>\n",
       "    <tr>\n",
       "      <th>7129300520</th>\n",
       "      <td>15000</td>\n",
       "      <td>4572.0000</td>\n",
       "    </tr>\n",
       "    <tr>\n",
       "      <th>6414100192</th>\n",
       "      <td>21711</td>\n",
       "      <td>6617.5128</td>\n",
       "    </tr>\n",
       "    <tr>\n",
       "      <th>5631500400</th>\n",
       "      <td>22322</td>\n",
       "      <td>6803.7456</td>\n",
       "    </tr>\n",
       "    <tr>\n",
       "      <th>2487200875</th>\n",
       "      <td>15280</td>\n",
       "      <td>4657.3440</td>\n",
       "    </tr>\n",
       "    <tr>\n",
       "      <th>1954400510</th>\n",
       "      <td>20743</td>\n",
       "      <td>6322.4664</td>\n",
       "    </tr>\n",
       "  </tbody>\n",
       "</table>\n",
       "</div>"
      ],
      "text/plain": [
       "            sqft_tot_area  sqm_tot_area\n",
       "id                                     \n",
       "7129300520          15000     4572.0000\n",
       "6414100192          21711     6617.5128\n",
       "5631500400          22322     6803.7456\n",
       "2487200875          15280     4657.3440\n",
       "1954400510          20743     6322.4664"
      ]
     },
     "execution_count": 34,
     "metadata": {},
     "output_type": "execute_result"
    }
   ],
   "source": [
    "#YOUR CODE HERE"
   ]
  },
  {
   "attachments": {},
   "cell_type": "markdown",
   "metadata": {},
   "source": [
    "## Q6.2\n",
    "Create a new column `sqm_aver_floor_area` by dividing `sqm_tot_area` by number of `floors`. \n",
    "\n",
    "Display first 5 values for `sqm_tot_area`, `floors`, `sqm_aver_floor_area` columns."
   ]
  },
  {
   "cell_type": "code",
   "execution_count": 35,
   "metadata": {
    "ExecuteTime": {
     "end_time": "2020-09-24T16:54:12.565763Z",
     "start_time": "2020-09-24T16:54:12.545189Z"
    }
   },
   "outputs": [
    {
     "data": {
      "text/html": [
       "<div>\n",
       "<style scoped>\n",
       "    .dataframe tbody tr th:only-of-type {\n",
       "        vertical-align: middle;\n",
       "    }\n",
       "\n",
       "    .dataframe tbody tr th {\n",
       "        vertical-align: top;\n",
       "    }\n",
       "\n",
       "    .dataframe thead th {\n",
       "        text-align: right;\n",
       "    }\n",
       "</style>\n",
       "<table border=\"1\" class=\"dataframe\">\n",
       "  <thead>\n",
       "    <tr style=\"text-align: right;\">\n",
       "      <th></th>\n",
       "      <th>sqm_tot_area</th>\n",
       "      <th>floors</th>\n",
       "      <th>sqm_aver_floor_area</th>\n",
       "    </tr>\n",
       "    <tr>\n",
       "      <th>id</th>\n",
       "      <th></th>\n",
       "      <th></th>\n",
       "      <th></th>\n",
       "    </tr>\n",
       "  </thead>\n",
       "  <tbody>\n",
       "    <tr>\n",
       "      <th>7129300520</th>\n",
       "      <td>4572.0000</td>\n",
       "      <td>1.0</td>\n",
       "      <td>4572.0000</td>\n",
       "    </tr>\n",
       "    <tr>\n",
       "      <th>6414100192</th>\n",
       "      <td>6617.5128</td>\n",
       "      <td>2.0</td>\n",
       "      <td>3308.7564</td>\n",
       "    </tr>\n",
       "    <tr>\n",
       "      <th>5631500400</th>\n",
       "      <td>6803.7456</td>\n",
       "      <td>1.0</td>\n",
       "      <td>6803.7456</td>\n",
       "    </tr>\n",
       "    <tr>\n",
       "      <th>2487200875</th>\n",
       "      <td>4657.3440</td>\n",
       "      <td>1.0</td>\n",
       "      <td>4657.3440</td>\n",
       "    </tr>\n",
       "    <tr>\n",
       "      <th>1954400510</th>\n",
       "      <td>6322.4664</td>\n",
       "      <td>1.0</td>\n",
       "      <td>6322.4664</td>\n",
       "    </tr>\n",
       "  </tbody>\n",
       "</table>\n",
       "</div>"
      ],
      "text/plain": [
       "            sqm_tot_area  floors  sqm_aver_floor_area\n",
       "id                                                   \n",
       "7129300520     4572.0000     1.0            4572.0000\n",
       "6414100192     6617.5128     2.0            3308.7564\n",
       "5631500400     6803.7456     1.0            6803.7456\n",
       "2487200875     4657.3440     1.0            4657.3440\n",
       "1954400510     6322.4664     1.0            6322.4664"
      ]
     },
     "execution_count": 35,
     "metadata": {},
     "output_type": "execute_result"
    }
   ],
   "source": [
    "#YOUR CODE HERE"
   ]
  },
  {
   "attachments": {},
   "cell_type": "markdown",
   "metadata": {},
   "source": [
    "## Q6.3\n",
    "Create a new bool column `high_class` it is True if the house has `grade` >= 9 and `condition` >= 4. Display first 10 values for new column."
   ]
  },
  {
   "cell_type": "code",
   "execution_count": 36,
   "metadata": {
    "ExecuteTime": {
     "end_time": "2020-09-24T16:54:12.646957Z",
     "start_time": "2020-09-24T16:54:12.634761Z"
    },
    "scrolled": true
   },
   "outputs": [
    {
     "data": {
      "text/plain": [
       "id\n",
       "7129300520    False\n",
       "6414100192    False\n",
       "5631500400    False\n",
       "2487200875    False\n",
       "1954400510    False\n",
       "7237550310    False\n",
       "1321400060    False\n",
       "2008000270    False\n",
       "2414600126    False\n",
       "3793500160    False\n",
       "Name: high_class, dtype: bool"
      ]
     },
     "execution_count": 36,
     "metadata": {},
     "output_type": "execute_result"
    }
   ],
   "source": [
    "#YOUR CODE HERE"
   ]
  },
  {
   "attachments": {},
   "cell_type": "markdown",
   "metadata": {},
   "source": [
    "# Q7. Final steps\n",
    "1. Make sure your .ipynb is linearly executable.\n",
    "2. Restart & Run All.\n",
    "3. No ERROR cells.\n",
    "4. Save your .ipynb file: Name_Surname_HW2.ipynb\n",
    "5. Push your solution to a personal GitHub repo.\n",
    "6. Share link to the solution via email."
   ]
  },
  {
   "attachments": {},
   "cell_type": "markdown",
   "metadata": {},
   "source": []
  }
 ],
 "metadata": {
  "kernelspec": {
   "display_name": "Python 3",
   "language": "python",
   "name": "python3"
  },
  "language_info": {
   "codemirror_mode": {
    "name": "ipython",
    "version": 3
   },
   "file_extension": ".py",
   "mimetype": "text/x-python",
   "name": "python",
   "nbconvert_exporter": "python",
   "pygments_lexer": "ipython3",
   "version": "3.11.3"
  }
 },
 "nbformat": 4,
 "nbformat_minor": 2
}
